{
 "cells": [
  {
   "cell_type": "code",
   "execution_count": 1,
   "metadata": {},
   "outputs": [],
   "source": [
    "import pandas as pd\n",
    "import numpy as np\n",
    "\n",
    "from sklearn.decomposition import PCA\n",
    "from sklearn.preprocessing import StandardScaler"
   ]
  },
  {
   "cell_type": "markdown",
   "metadata": {},
   "source": [
    "## load train data"
   ]
  },
  {
   "cell_type": "code",
   "execution_count": 2,
   "metadata": {},
   "outputs": [],
   "source": [
    "pd_df_train = pd.read_csv(\"data/preprocessing_data/task1_preprocess_training_data.csv\") "
   ]
  },
  {
   "cell_type": "code",
   "execution_count": 3,
   "metadata": {},
   "outputs": [
    {
     "data": {
      "text/html": [
       "<div>\n",
       "<style scoped>\n",
       "    .dataframe tbody tr th:only-of-type {\n",
       "        vertical-align: middle;\n",
       "    }\n",
       "\n",
       "    .dataframe tbody tr th {\n",
       "        vertical-align: top;\n",
       "    }\n",
       "\n",
       "    .dataframe thead th {\n",
       "        text-align: right;\n",
       "    }\n",
       "</style>\n",
       "<table border=\"1\" class=\"dataframe\">\n",
       "  <thead>\n",
       "    <tr style=\"text-align: right;\">\n",
       "      <th></th>\n",
       "      <th>intersection_id</th>\n",
       "      <th>tollgate_id</th>\n",
       "      <th>time_window</th>\n",
       "      <th>average_travl_time</th>\n",
       "      <th>lag1</th>\n",
       "      <th>lag2</th>\n",
       "      <th>lag3</th>\n",
       "      <th>lag4</th>\n",
       "      <th>lag5</th>\n",
       "      <th>lag6</th>\n",
       "      <th>...</th>\n",
       "      <th>length</th>\n",
       "      <th>link_count</th>\n",
       "      <th>lane1_length</th>\n",
       "      <th>lane1_count</th>\n",
       "      <th>lane2_length</th>\n",
       "      <th>lane2_count</th>\n",
       "      <th>lane3_length</th>\n",
       "      <th>lane3_count</th>\n",
       "      <th>lane4_length</th>\n",
       "      <th>lane4_count</th>\n",
       "    </tr>\n",
       "  </thead>\n",
       "  <tbody>\n",
       "    <tr>\n",
       "      <td>0</td>\n",
       "      <td>B</td>\n",
       "      <td>3</td>\n",
       "      <td>[2016-07-19 00:00:00,2016-07-19 00:20:00)</td>\n",
       "      <td>70.85</td>\n",
       "      <td>119.353219</td>\n",
       "      <td>119.350868</td>\n",
       "      <td>119.3441</td>\n",
       "      <td>119.343203</td>\n",
       "      <td>119.342306</td>\n",
       "      <td>119.340349</td>\n",
       "      <td>...</td>\n",
       "      <td>477</td>\n",
       "      <td>5</td>\n",
       "      <td>255</td>\n",
       "      <td>2</td>\n",
       "      <td>78.0</td>\n",
       "      <td>1.0</td>\n",
       "      <td>0.0</td>\n",
       "      <td>0.0</td>\n",
       "      <td>144.0</td>\n",
       "      <td>2.0</td>\n",
       "    </tr>\n",
       "    <tr>\n",
       "      <td>1</td>\n",
       "      <td>A</td>\n",
       "      <td>2</td>\n",
       "      <td>[2016-07-19 00:20:00,2016-07-19 00:40:00)</td>\n",
       "      <td>58.05</td>\n",
       "      <td>70.850000</td>\n",
       "      <td>119.350868</td>\n",
       "      <td>119.3441</td>\n",
       "      <td>119.343203</td>\n",
       "      <td>119.342306</td>\n",
       "      <td>119.340349</td>\n",
       "      <td>...</td>\n",
       "      <td>384</td>\n",
       "      <td>6</td>\n",
       "      <td>142</td>\n",
       "      <td>2</td>\n",
       "      <td>0.0</td>\n",
       "      <td>0.0</td>\n",
       "      <td>242.0</td>\n",
       "      <td>4.0</td>\n",
       "      <td>0.0</td>\n",
       "      <td>0.0</td>\n",
       "    </tr>\n",
       "    <tr>\n",
       "      <td>2</td>\n",
       "      <td>B</td>\n",
       "      <td>1</td>\n",
       "      <td>[2016-07-19 00:20:00,2016-07-19 00:40:00)</td>\n",
       "      <td>79.76</td>\n",
       "      <td>58.050000</td>\n",
       "      <td>70.850000</td>\n",
       "      <td>119.3441</td>\n",
       "      <td>119.343203</td>\n",
       "      <td>119.342306</td>\n",
       "      <td>119.340349</td>\n",
       "      <td>...</td>\n",
       "      <td>821</td>\n",
       "      <td>9</td>\n",
       "      <td>275</td>\n",
       "      <td>4</td>\n",
       "      <td>222.0</td>\n",
       "      <td>2.0</td>\n",
       "      <td>180.0</td>\n",
       "      <td>1.0</td>\n",
       "      <td>144.0</td>\n",
       "      <td>2.0</td>\n",
       "    </tr>\n",
       "    <tr>\n",
       "      <td>3</td>\n",
       "      <td>B</td>\n",
       "      <td>3</td>\n",
       "      <td>[2016-07-19 00:20:00,2016-07-19 00:40:00)</td>\n",
       "      <td>148.79</td>\n",
       "      <td>79.760000</td>\n",
       "      <td>58.050000</td>\n",
       "      <td>70.8500</td>\n",
       "      <td>119.343203</td>\n",
       "      <td>119.342306</td>\n",
       "      <td>119.340349</td>\n",
       "      <td>...</td>\n",
       "      <td>477</td>\n",
       "      <td>5</td>\n",
       "      <td>255</td>\n",
       "      <td>2</td>\n",
       "      <td>78.0</td>\n",
       "      <td>1.0</td>\n",
       "      <td>0.0</td>\n",
       "      <td>0.0</td>\n",
       "      <td>144.0</td>\n",
       "      <td>2.0</td>\n",
       "    </tr>\n",
       "    <tr>\n",
       "      <td>4</td>\n",
       "      <td>B</td>\n",
       "      <td>1</td>\n",
       "      <td>[2016-07-19 00:40:00,2016-07-19 01:00:00)</td>\n",
       "      <td>137.98</td>\n",
       "      <td>148.790000</td>\n",
       "      <td>79.760000</td>\n",
       "      <td>58.0500</td>\n",
       "      <td>70.850000</td>\n",
       "      <td>119.342306</td>\n",
       "      <td>119.340349</td>\n",
       "      <td>...</td>\n",
       "      <td>821</td>\n",
       "      <td>9</td>\n",
       "      <td>275</td>\n",
       "      <td>4</td>\n",
       "      <td>222.0</td>\n",
       "      <td>2.0</td>\n",
       "      <td>180.0</td>\n",
       "      <td>1.0</td>\n",
       "      <td>144.0</td>\n",
       "      <td>2.0</td>\n",
       "    </tr>\n",
       "  </tbody>\n",
       "</table>\n",
       "<p>5 rows × 66 columns</p>\n",
       "</div>"
      ],
      "text/plain": [
       "  intersection_id  tollgate_id                                time_window  \\\n",
       "0               B            3  [2016-07-19 00:00:00,2016-07-19 00:20:00)   \n",
       "1               A            2  [2016-07-19 00:20:00,2016-07-19 00:40:00)   \n",
       "2               B            1  [2016-07-19 00:20:00,2016-07-19 00:40:00)   \n",
       "3               B            3  [2016-07-19 00:20:00,2016-07-19 00:40:00)   \n",
       "4               B            1  [2016-07-19 00:40:00,2016-07-19 01:00:00)   \n",
       "\n",
       "   average_travl_time        lag1        lag2      lag3        lag4  \\\n",
       "0               70.85  119.353219  119.350868  119.3441  119.343203   \n",
       "1               58.05   70.850000  119.350868  119.3441  119.343203   \n",
       "2               79.76   58.050000   70.850000  119.3441  119.343203   \n",
       "3              148.79   79.760000   58.050000   70.8500  119.343203   \n",
       "4              137.98  148.790000   79.760000   58.0500   70.850000   \n",
       "\n",
       "         lag5        lag6  ...  length  link_count  lane1_length  lane1_count  \\\n",
       "0  119.342306  119.340349  ...     477           5           255            2   \n",
       "1  119.342306  119.340349  ...     384           6           142            2   \n",
       "2  119.342306  119.340349  ...     821           9           275            4   \n",
       "3  119.342306  119.340349  ...     477           5           255            2   \n",
       "4  119.342306  119.340349  ...     821           9           275            4   \n",
       "\n",
       "   lane2_length  lane2_count  lane3_length  lane3_count  lane4_length  \\\n",
       "0          78.0          1.0           0.0          0.0         144.0   \n",
       "1           0.0          0.0         242.0          4.0           0.0   \n",
       "2         222.0          2.0         180.0          1.0         144.0   \n",
       "3          78.0          1.0           0.0          0.0         144.0   \n",
       "4         222.0          2.0         180.0          1.0         144.0   \n",
       "\n",
       "   lane4_count  \n",
       "0          2.0  \n",
       "1          0.0  \n",
       "2          2.0  \n",
       "3          2.0  \n",
       "4          2.0  \n",
       "\n",
       "[5 rows x 66 columns]"
      ]
     },
     "execution_count": 3,
     "metadata": {},
     "output_type": "execute_result"
    }
   ],
   "source": [
    "pd_df_train.head()"
   ]
  },
  {
   "cell_type": "markdown",
   "metadata": {},
   "source": [
    "## Grouping and creating one hot encoding for intersection_id and time_window for train data"
   ]
  },
  {
   "cell_type": "code",
   "execution_count": 4,
   "metadata": {},
   "outputs": [],
   "source": [
    "intersection_id_index = pd_df_train.groupby('intersection_id').ngroup()"
   ]
  },
  {
   "cell_type": "code",
   "execution_count": 5,
   "metadata": {},
   "outputs": [],
   "source": [
    "intersection_id_class_vec = pd.get_dummies(intersection_id_index, prefix= \"intesection_id_index\")"
   ]
  },
  {
   "cell_type": "code",
   "execution_count": 6,
   "metadata": {},
   "outputs": [],
   "source": [
    "time_window_index = pd_df_train.groupby('time_window').ngroup()"
   ]
  },
  {
   "cell_type": "code",
   "execution_count": 7,
   "metadata": {},
   "outputs": [],
   "source": [
    "time_window_class_vec =  pd.get_dummies(time_window_index)"
   ]
  },
  {
   "cell_type": "code",
   "execution_count": 8,
   "metadata": {},
   "outputs": [],
   "source": [
    "pd_df_train = pd.concat([pd_df_train, intersection_id_index, intersection_id_class_vec, \n",
    "                         time_window_index, time_window_class_vec], axis=1)"
   ]
  },
  {
   "cell_type": "code",
   "execution_count": 9,
   "metadata": {},
   "outputs": [
    {
     "data": {
      "text/html": [
       "<div>\n",
       "<style scoped>\n",
       "    .dataframe tbody tr th:only-of-type {\n",
       "        vertical-align: middle;\n",
       "    }\n",
       "\n",
       "    .dataframe tbody tr th {\n",
       "        vertical-align: top;\n",
       "    }\n",
       "\n",
       "    .dataframe thead th {\n",
       "        text-align: right;\n",
       "    }\n",
       "</style>\n",
       "<table border=\"1\" class=\"dataframe\">\n",
       "  <thead>\n",
       "    <tr style=\"text-align: right;\">\n",
       "      <th></th>\n",
       "      <th>intersection_id</th>\n",
       "      <th>tollgate_id</th>\n",
       "      <th>time_window</th>\n",
       "      <th>average_travl_time</th>\n",
       "      <th>lag1</th>\n",
       "      <th>lag2</th>\n",
       "      <th>lag3</th>\n",
       "      <th>lag4</th>\n",
       "      <th>lag5</th>\n",
       "      <th>lag6</th>\n",
       "      <th>...</th>\n",
       "      <th>6436</th>\n",
       "      <th>6437</th>\n",
       "      <th>6438</th>\n",
       "      <th>6439</th>\n",
       "      <th>6440</th>\n",
       "      <th>6441</th>\n",
       "      <th>6442</th>\n",
       "      <th>6443</th>\n",
       "      <th>6444</th>\n",
       "      <th>6445</th>\n",
       "    </tr>\n",
       "  </thead>\n",
       "  <tbody>\n",
       "    <tr>\n",
       "      <td>0</td>\n",
       "      <td>B</td>\n",
       "      <td>3</td>\n",
       "      <td>[2016-07-19 00:00:00,2016-07-19 00:20:00)</td>\n",
       "      <td>70.85</td>\n",
       "      <td>119.353219</td>\n",
       "      <td>119.350868</td>\n",
       "      <td>119.3441</td>\n",
       "      <td>119.343203</td>\n",
       "      <td>119.342306</td>\n",
       "      <td>119.340349</td>\n",
       "      <td>...</td>\n",
       "      <td>0</td>\n",
       "      <td>0</td>\n",
       "      <td>0</td>\n",
       "      <td>0</td>\n",
       "      <td>0</td>\n",
       "      <td>0</td>\n",
       "      <td>0</td>\n",
       "      <td>0</td>\n",
       "      <td>0</td>\n",
       "      <td>0</td>\n",
       "    </tr>\n",
       "    <tr>\n",
       "      <td>1</td>\n",
       "      <td>A</td>\n",
       "      <td>2</td>\n",
       "      <td>[2016-07-19 00:20:00,2016-07-19 00:40:00)</td>\n",
       "      <td>58.05</td>\n",
       "      <td>70.850000</td>\n",
       "      <td>119.350868</td>\n",
       "      <td>119.3441</td>\n",
       "      <td>119.343203</td>\n",
       "      <td>119.342306</td>\n",
       "      <td>119.340349</td>\n",
       "      <td>...</td>\n",
       "      <td>0</td>\n",
       "      <td>0</td>\n",
       "      <td>0</td>\n",
       "      <td>0</td>\n",
       "      <td>0</td>\n",
       "      <td>0</td>\n",
       "      <td>0</td>\n",
       "      <td>0</td>\n",
       "      <td>0</td>\n",
       "      <td>0</td>\n",
       "    </tr>\n",
       "    <tr>\n",
       "      <td>2</td>\n",
       "      <td>B</td>\n",
       "      <td>1</td>\n",
       "      <td>[2016-07-19 00:20:00,2016-07-19 00:40:00)</td>\n",
       "      <td>79.76</td>\n",
       "      <td>58.050000</td>\n",
       "      <td>70.850000</td>\n",
       "      <td>119.3441</td>\n",
       "      <td>119.343203</td>\n",
       "      <td>119.342306</td>\n",
       "      <td>119.340349</td>\n",
       "      <td>...</td>\n",
       "      <td>0</td>\n",
       "      <td>0</td>\n",
       "      <td>0</td>\n",
       "      <td>0</td>\n",
       "      <td>0</td>\n",
       "      <td>0</td>\n",
       "      <td>0</td>\n",
       "      <td>0</td>\n",
       "      <td>0</td>\n",
       "      <td>0</td>\n",
       "    </tr>\n",
       "    <tr>\n",
       "      <td>3</td>\n",
       "      <td>B</td>\n",
       "      <td>3</td>\n",
       "      <td>[2016-07-19 00:20:00,2016-07-19 00:40:00)</td>\n",
       "      <td>148.79</td>\n",
       "      <td>79.760000</td>\n",
       "      <td>58.050000</td>\n",
       "      <td>70.8500</td>\n",
       "      <td>119.343203</td>\n",
       "      <td>119.342306</td>\n",
       "      <td>119.340349</td>\n",
       "      <td>...</td>\n",
       "      <td>0</td>\n",
       "      <td>0</td>\n",
       "      <td>0</td>\n",
       "      <td>0</td>\n",
       "      <td>0</td>\n",
       "      <td>0</td>\n",
       "      <td>0</td>\n",
       "      <td>0</td>\n",
       "      <td>0</td>\n",
       "      <td>0</td>\n",
       "    </tr>\n",
       "    <tr>\n",
       "      <td>4</td>\n",
       "      <td>B</td>\n",
       "      <td>1</td>\n",
       "      <td>[2016-07-19 00:40:00,2016-07-19 01:00:00)</td>\n",
       "      <td>137.98</td>\n",
       "      <td>148.790000</td>\n",
       "      <td>79.760000</td>\n",
       "      <td>58.0500</td>\n",
       "      <td>70.850000</td>\n",
       "      <td>119.342306</td>\n",
       "      <td>119.340349</td>\n",
       "      <td>...</td>\n",
       "      <td>0</td>\n",
       "      <td>0</td>\n",
       "      <td>0</td>\n",
       "      <td>0</td>\n",
       "      <td>0</td>\n",
       "      <td>0</td>\n",
       "      <td>0</td>\n",
       "      <td>0</td>\n",
       "      <td>0</td>\n",
       "      <td>0</td>\n",
       "    </tr>\n",
       "  </tbody>\n",
       "</table>\n",
       "<p>5 rows × 6517 columns</p>\n",
       "</div>"
      ],
      "text/plain": [
       "  intersection_id  tollgate_id                                time_window  \\\n",
       "0               B            3  [2016-07-19 00:00:00,2016-07-19 00:20:00)   \n",
       "1               A            2  [2016-07-19 00:20:00,2016-07-19 00:40:00)   \n",
       "2               B            1  [2016-07-19 00:20:00,2016-07-19 00:40:00)   \n",
       "3               B            3  [2016-07-19 00:20:00,2016-07-19 00:40:00)   \n",
       "4               B            1  [2016-07-19 00:40:00,2016-07-19 01:00:00)   \n",
       "\n",
       "   average_travl_time        lag1        lag2      lag3        lag4  \\\n",
       "0               70.85  119.353219  119.350868  119.3441  119.343203   \n",
       "1               58.05   70.850000  119.350868  119.3441  119.343203   \n",
       "2               79.76   58.050000   70.850000  119.3441  119.343203   \n",
       "3              148.79   79.760000   58.050000   70.8500  119.343203   \n",
       "4              137.98  148.790000   79.760000   58.0500   70.850000   \n",
       "\n",
       "         lag5        lag6  ...  6436  6437  6438  6439  6440  6441  6442  \\\n",
       "0  119.342306  119.340349  ...     0     0     0     0     0     0     0   \n",
       "1  119.342306  119.340349  ...     0     0     0     0     0     0     0   \n",
       "2  119.342306  119.340349  ...     0     0     0     0     0     0     0   \n",
       "3  119.342306  119.340349  ...     0     0     0     0     0     0     0   \n",
       "4  119.342306  119.340349  ...     0     0     0     0     0     0     0   \n",
       "\n",
       "   6443  6444  6445  \n",
       "0     0     0     0  \n",
       "1     0     0     0  \n",
       "2     0     0     0  \n",
       "3     0     0     0  \n",
       "4     0     0     0  \n",
       "\n",
       "[5 rows x 6517 columns]"
      ]
     },
     "execution_count": 9,
     "metadata": {},
     "output_type": "execute_result"
    }
   ],
   "source": [
    "pd_df_train.head()"
   ]
  },
  {
   "cell_type": "code",
   "execution_count": 10,
   "metadata": {},
   "outputs": [],
   "source": [
    "train_set_X = pd_df_train.drop([\"intersection_id\", \"time_window\"], axis=1)"
   ]
  },
  {
   "cell_type": "code",
   "execution_count": 11,
   "metadata": {},
   "outputs": [],
   "source": [
    "train_set_X = train_set_X.rename(columns={\"average_travl_time\":\"label\"}) "
   ]
  },
  {
   "cell_type": "code",
   "execution_count": 12,
   "metadata": {},
   "outputs": [
    {
     "data": {
      "text/html": [
       "<div>\n",
       "<style scoped>\n",
       "    .dataframe tbody tr th:only-of-type {\n",
       "        vertical-align: middle;\n",
       "    }\n",
       "\n",
       "    .dataframe tbody tr th {\n",
       "        vertical-align: top;\n",
       "    }\n",
       "\n",
       "    .dataframe thead th {\n",
       "        text-align: right;\n",
       "    }\n",
       "</style>\n",
       "<table border=\"1\" class=\"dataframe\">\n",
       "  <thead>\n",
       "    <tr style=\"text-align: right;\">\n",
       "      <th></th>\n",
       "      <th>tollgate_id</th>\n",
       "      <th>label</th>\n",
       "      <th>lag1</th>\n",
       "      <th>lag2</th>\n",
       "      <th>lag3</th>\n",
       "      <th>lag4</th>\n",
       "      <th>lag5</th>\n",
       "      <th>lag6</th>\n",
       "      <th>lag7</th>\n",
       "      <th>Friday</th>\n",
       "      <th>...</th>\n",
       "      <th>6436</th>\n",
       "      <th>6437</th>\n",
       "      <th>6438</th>\n",
       "      <th>6439</th>\n",
       "      <th>6440</th>\n",
       "      <th>6441</th>\n",
       "      <th>6442</th>\n",
       "      <th>6443</th>\n",
       "      <th>6444</th>\n",
       "      <th>6445</th>\n",
       "    </tr>\n",
       "  </thead>\n",
       "  <tbody>\n",
       "    <tr>\n",
       "      <td>0</td>\n",
       "      <td>3</td>\n",
       "      <td>70.85</td>\n",
       "      <td>119.353219</td>\n",
       "      <td>119.350868</td>\n",
       "      <td>119.3441</td>\n",
       "      <td>119.343203</td>\n",
       "      <td>119.342306</td>\n",
       "      <td>119.340349</td>\n",
       "      <td>119.338391</td>\n",
       "      <td>0</td>\n",
       "      <td>...</td>\n",
       "      <td>0</td>\n",
       "      <td>0</td>\n",
       "      <td>0</td>\n",
       "      <td>0</td>\n",
       "      <td>0</td>\n",
       "      <td>0</td>\n",
       "      <td>0</td>\n",
       "      <td>0</td>\n",
       "      <td>0</td>\n",
       "      <td>0</td>\n",
       "    </tr>\n",
       "    <tr>\n",
       "      <td>1</td>\n",
       "      <td>2</td>\n",
       "      <td>58.05</td>\n",
       "      <td>70.850000</td>\n",
       "      <td>119.350868</td>\n",
       "      <td>119.3441</td>\n",
       "      <td>119.343203</td>\n",
       "      <td>119.342306</td>\n",
       "      <td>119.340349</td>\n",
       "      <td>119.338391</td>\n",
       "      <td>0</td>\n",
       "      <td>...</td>\n",
       "      <td>0</td>\n",
       "      <td>0</td>\n",
       "      <td>0</td>\n",
       "      <td>0</td>\n",
       "      <td>0</td>\n",
       "      <td>0</td>\n",
       "      <td>0</td>\n",
       "      <td>0</td>\n",
       "      <td>0</td>\n",
       "      <td>0</td>\n",
       "    </tr>\n",
       "    <tr>\n",
       "      <td>2</td>\n",
       "      <td>1</td>\n",
       "      <td>79.76</td>\n",
       "      <td>58.050000</td>\n",
       "      <td>70.850000</td>\n",
       "      <td>119.3441</td>\n",
       "      <td>119.343203</td>\n",
       "      <td>119.342306</td>\n",
       "      <td>119.340349</td>\n",
       "      <td>119.338391</td>\n",
       "      <td>0</td>\n",
       "      <td>...</td>\n",
       "      <td>0</td>\n",
       "      <td>0</td>\n",
       "      <td>0</td>\n",
       "      <td>0</td>\n",
       "      <td>0</td>\n",
       "      <td>0</td>\n",
       "      <td>0</td>\n",
       "      <td>0</td>\n",
       "      <td>0</td>\n",
       "      <td>0</td>\n",
       "    </tr>\n",
       "    <tr>\n",
       "      <td>3</td>\n",
       "      <td>3</td>\n",
       "      <td>148.79</td>\n",
       "      <td>79.760000</td>\n",
       "      <td>58.050000</td>\n",
       "      <td>70.8500</td>\n",
       "      <td>119.343203</td>\n",
       "      <td>119.342306</td>\n",
       "      <td>119.340349</td>\n",
       "      <td>119.338391</td>\n",
       "      <td>0</td>\n",
       "      <td>...</td>\n",
       "      <td>0</td>\n",
       "      <td>0</td>\n",
       "      <td>0</td>\n",
       "      <td>0</td>\n",
       "      <td>0</td>\n",
       "      <td>0</td>\n",
       "      <td>0</td>\n",
       "      <td>0</td>\n",
       "      <td>0</td>\n",
       "      <td>0</td>\n",
       "    </tr>\n",
       "    <tr>\n",
       "      <td>4</td>\n",
       "      <td>1</td>\n",
       "      <td>137.98</td>\n",
       "      <td>148.790000</td>\n",
       "      <td>79.760000</td>\n",
       "      <td>58.0500</td>\n",
       "      <td>70.850000</td>\n",
       "      <td>119.342306</td>\n",
       "      <td>119.340349</td>\n",
       "      <td>119.338391</td>\n",
       "      <td>0</td>\n",
       "      <td>...</td>\n",
       "      <td>0</td>\n",
       "      <td>0</td>\n",
       "      <td>0</td>\n",
       "      <td>0</td>\n",
       "      <td>0</td>\n",
       "      <td>0</td>\n",
       "      <td>0</td>\n",
       "      <td>0</td>\n",
       "      <td>0</td>\n",
       "      <td>0</td>\n",
       "    </tr>\n",
       "  </tbody>\n",
       "</table>\n",
       "<p>5 rows × 6515 columns</p>\n",
       "</div>"
      ],
      "text/plain": [
       "   tollgate_id   label        lag1        lag2      lag3        lag4  \\\n",
       "0            3   70.85  119.353219  119.350868  119.3441  119.343203   \n",
       "1            2   58.05   70.850000  119.350868  119.3441  119.343203   \n",
       "2            1   79.76   58.050000   70.850000  119.3441  119.343203   \n",
       "3            3  148.79   79.760000   58.050000   70.8500  119.343203   \n",
       "4            1  137.98  148.790000   79.760000   58.0500   70.850000   \n",
       "\n",
       "         lag5        lag6        lag7  Friday  ...  6436  6437  6438  6439  \\\n",
       "0  119.342306  119.340349  119.338391       0  ...     0     0     0     0   \n",
       "1  119.342306  119.340349  119.338391       0  ...     0     0     0     0   \n",
       "2  119.342306  119.340349  119.338391       0  ...     0     0     0     0   \n",
       "3  119.342306  119.340349  119.338391       0  ...     0     0     0     0   \n",
       "4  119.342306  119.340349  119.338391       0  ...     0     0     0     0   \n",
       "\n",
       "   6440  6441  6442  6443  6444  6445  \n",
       "0     0     0     0     0     0     0  \n",
       "1     0     0     0     0     0     0  \n",
       "2     0     0     0     0     0     0  \n",
       "3     0     0     0     0     0     0  \n",
       "4     0     0     0     0     0     0  \n",
       "\n",
       "[5 rows x 6515 columns]"
      ]
     },
     "execution_count": 12,
     "metadata": {},
     "output_type": "execute_result"
    }
   ],
   "source": [
    "train_set_X.head()"
   ]
  },
  {
   "cell_type": "code",
   "execution_count": 13,
   "metadata": {},
   "outputs": [],
   "source": [
    "train_set_X = train_set_X.loc[:,~train_set_X.columns.duplicated()]"
   ]
  },
  {
   "cell_type": "code",
   "execution_count": 14,
   "metadata": {},
   "outputs": [],
   "source": [
    "train_set_y = train_set_X.label"
   ]
  },
  {
   "cell_type": "code",
   "execution_count": 15,
   "metadata": {},
   "outputs": [],
   "source": [
    "pca = PCA(n_components=10)\n",
    "features_pca=pca.fit_transform(train_set_X.drop(\"label\", axis=1))"
   ]
  },
  {
   "cell_type": "code",
   "execution_count": 16,
   "metadata": {},
   "outputs": [
    {
     "data": {
      "text/plain": [
       "(25648, 10)"
      ]
     },
     "execution_count": 16,
     "metadata": {},
     "output_type": "execute_result"
    }
   ],
   "source": [
    "scaler=StandardScaler()\n",
    "features_scled=scaler.fit_transform(features_pca)\n",
    "features_scled.shape"
   ]
  },
  {
   "cell_type": "markdown",
   "metadata": {},
   "source": [
    "## load test data"
   ]
  },
  {
   "cell_type": "code",
   "execution_count": 17,
   "metadata": {},
   "outputs": [],
   "source": [
    "pd_df_test = pd.read_csv(\"data/preprocessing_data/task1_preprocess_test_data.csv\") "
   ]
  },
  {
   "cell_type": "code",
   "execution_count": 18,
   "metadata": {},
   "outputs": [
    {
     "data": {
      "text/html": [
       "<div>\n",
       "<style scoped>\n",
       "    .dataframe tbody tr th:only-of-type {\n",
       "        vertical-align: middle;\n",
       "    }\n",
       "\n",
       "    .dataframe tbody tr th {\n",
       "        vertical-align: top;\n",
       "    }\n",
       "\n",
       "    .dataframe thead th {\n",
       "        text-align: right;\n",
       "    }\n",
       "</style>\n",
       "<table border=\"1\" class=\"dataframe\">\n",
       "  <thead>\n",
       "    <tr style=\"text-align: right;\">\n",
       "      <th></th>\n",
       "      <th>intersection_id</th>\n",
       "      <th>tollgate_id</th>\n",
       "      <th>time_window</th>\n",
       "      <th>average_travl_time</th>\n",
       "      <th>lag1</th>\n",
       "      <th>lag2</th>\n",
       "      <th>lag3</th>\n",
       "      <th>lag4</th>\n",
       "      <th>lag5</th>\n",
       "      <th>lag6</th>\n",
       "      <th>...</th>\n",
       "      <th>length</th>\n",
       "      <th>link_count</th>\n",
       "      <th>lane1_length</th>\n",
       "      <th>lane1_count</th>\n",
       "      <th>lane2_length</th>\n",
       "      <th>lane2_count</th>\n",
       "      <th>lane3_length</th>\n",
       "      <th>lane3_count</th>\n",
       "      <th>lane4_length</th>\n",
       "      <th>lane4_count</th>\n",
       "    </tr>\n",
       "  </thead>\n",
       "  <tbody>\n",
       "    <tr>\n",
       "      <td>0</td>\n",
       "      <td>A</td>\n",
       "      <td>2</td>\n",
       "      <td>[2016-10-18 08:00:00,2016-10-18 08:20:00)</td>\n",
       "      <td>0</td>\n",
       "      <td>0</td>\n",
       "      <td>0</td>\n",
       "      <td>0</td>\n",
       "      <td>0</td>\n",
       "      <td>0</td>\n",
       "      <td>0</td>\n",
       "      <td>...</td>\n",
       "      <td>384</td>\n",
       "      <td>6</td>\n",
       "      <td>142</td>\n",
       "      <td>2</td>\n",
       "      <td>0.0</td>\n",
       "      <td>0.0</td>\n",
       "      <td>242.0</td>\n",
       "      <td>4.0</td>\n",
       "      <td>0.0</td>\n",
       "      <td>0.0</td>\n",
       "    </tr>\n",
       "    <tr>\n",
       "      <td>1</td>\n",
       "      <td>A</td>\n",
       "      <td>3</td>\n",
       "      <td>[2016-10-18 08:00:00,2016-10-18 08:20:00)</td>\n",
       "      <td>0</td>\n",
       "      <td>0</td>\n",
       "      <td>0</td>\n",
       "      <td>0</td>\n",
       "      <td>0</td>\n",
       "      <td>0</td>\n",
       "      <td>0</td>\n",
       "      <td>...</td>\n",
       "      <td>852</td>\n",
       "      <td>8</td>\n",
       "      <td>404</td>\n",
       "      <td>3</td>\n",
       "      <td>0.0</td>\n",
       "      <td>0.0</td>\n",
       "      <td>448.0</td>\n",
       "      <td>5.0</td>\n",
       "      <td>0.0</td>\n",
       "      <td>0.0</td>\n",
       "    </tr>\n",
       "    <tr>\n",
       "      <td>2</td>\n",
       "      <td>B</td>\n",
       "      <td>1</td>\n",
       "      <td>[2016-10-18 08:00:00,2016-10-18 08:20:00)</td>\n",
       "      <td>0</td>\n",
       "      <td>0</td>\n",
       "      <td>0</td>\n",
       "      <td>0</td>\n",
       "      <td>0</td>\n",
       "      <td>0</td>\n",
       "      <td>0</td>\n",
       "      <td>...</td>\n",
       "      <td>821</td>\n",
       "      <td>9</td>\n",
       "      <td>275</td>\n",
       "      <td>4</td>\n",
       "      <td>222.0</td>\n",
       "      <td>2.0</td>\n",
       "      <td>180.0</td>\n",
       "      <td>1.0</td>\n",
       "      <td>144.0</td>\n",
       "      <td>2.0</td>\n",
       "    </tr>\n",
       "    <tr>\n",
       "      <td>3</td>\n",
       "      <td>B</td>\n",
       "      <td>3</td>\n",
       "      <td>[2016-10-18 08:00:00,2016-10-18 08:20:00)</td>\n",
       "      <td>0</td>\n",
       "      <td>0</td>\n",
       "      <td>0</td>\n",
       "      <td>0</td>\n",
       "      <td>0</td>\n",
       "      <td>0</td>\n",
       "      <td>0</td>\n",
       "      <td>...</td>\n",
       "      <td>477</td>\n",
       "      <td>5</td>\n",
       "      <td>255</td>\n",
       "      <td>2</td>\n",
       "      <td>78.0</td>\n",
       "      <td>1.0</td>\n",
       "      <td>0.0</td>\n",
       "      <td>0.0</td>\n",
       "      <td>144.0</td>\n",
       "      <td>2.0</td>\n",
       "    </tr>\n",
       "    <tr>\n",
       "      <td>4</td>\n",
       "      <td>C</td>\n",
       "      <td>1</td>\n",
       "      <td>[2016-10-18 08:00:00,2016-10-18 08:20:00)</td>\n",
       "      <td>0</td>\n",
       "      <td>0</td>\n",
       "      <td>0</td>\n",
       "      <td>0</td>\n",
       "      <td>0</td>\n",
       "      <td>0</td>\n",
       "      <td>0</td>\n",
       "      <td>...</td>\n",
       "      <td>1550</td>\n",
       "      <td>12</td>\n",
       "      <td>217</td>\n",
       "      <td>3</td>\n",
       "      <td>144.0</td>\n",
       "      <td>1.0</td>\n",
       "      <td>1045.0</td>\n",
       "      <td>6.0</td>\n",
       "      <td>144.0</td>\n",
       "      <td>2.0</td>\n",
       "    </tr>\n",
       "  </tbody>\n",
       "</table>\n",
       "<p>5 rows × 66 columns</p>\n",
       "</div>"
      ],
      "text/plain": [
       "  intersection_id  tollgate_id                                time_window  \\\n",
       "0               A            2  [2016-10-18 08:00:00,2016-10-18 08:20:00)   \n",
       "1               A            3  [2016-10-18 08:00:00,2016-10-18 08:20:00)   \n",
       "2               B            1  [2016-10-18 08:00:00,2016-10-18 08:20:00)   \n",
       "3               B            3  [2016-10-18 08:00:00,2016-10-18 08:20:00)   \n",
       "4               C            1  [2016-10-18 08:00:00,2016-10-18 08:20:00)   \n",
       "\n",
       "   average_travl_time  lag1  lag2  lag3  lag4  lag5  lag6  ...  length  \\\n",
       "0                   0     0     0     0     0     0     0  ...     384   \n",
       "1                   0     0     0     0     0     0     0  ...     852   \n",
       "2                   0     0     0     0     0     0     0  ...     821   \n",
       "3                   0     0     0     0     0     0     0  ...     477   \n",
       "4                   0     0     0     0     0     0     0  ...    1550   \n",
       "\n",
       "   link_count  lane1_length  lane1_count  lane2_length  lane2_count  \\\n",
       "0           6           142            2           0.0          0.0   \n",
       "1           8           404            3           0.0          0.0   \n",
       "2           9           275            4         222.0          2.0   \n",
       "3           5           255            2          78.0          1.0   \n",
       "4          12           217            3         144.0          1.0   \n",
       "\n",
       "   lane3_length  lane3_count  lane4_length  lane4_count  \n",
       "0         242.0          4.0           0.0          0.0  \n",
       "1         448.0          5.0           0.0          0.0  \n",
       "2         180.0          1.0         144.0          2.0  \n",
       "3           0.0          0.0         144.0          2.0  \n",
       "4        1045.0          6.0         144.0          2.0  \n",
       "\n",
       "[5 rows x 66 columns]"
      ]
     },
     "execution_count": 18,
     "metadata": {},
     "output_type": "execute_result"
    }
   ],
   "source": [
    "pd_df_test.head()"
   ]
  },
  {
   "cell_type": "markdown",
   "metadata": {},
   "source": [
    "## Grouping and creating one hot encoding for intersection_id and time_window for test data"
   ]
  },
  {
   "cell_type": "code",
   "execution_count": 19,
   "metadata": {},
   "outputs": [],
   "source": [
    "intersection_id_index_test = pd_df_test.groupby('intersection_id').ngroup()"
   ]
  },
  {
   "cell_type": "code",
   "execution_count": 20,
   "metadata": {},
   "outputs": [],
   "source": [
    "intersection_id_class_vec_test = pd.get_dummies(intersection_id_index_test, prefix= \"intesection_id_index\")"
   ]
  },
  {
   "cell_type": "code",
   "execution_count": 21,
   "metadata": {},
   "outputs": [],
   "source": [
    "time_window_index_test = pd_df_test.groupby('time_window').ngroup()"
   ]
  },
  {
   "cell_type": "code",
   "execution_count": 22,
   "metadata": {},
   "outputs": [],
   "source": [
    "time_window_class_vec_test =  pd.get_dummies(time_window_index_test)"
   ]
  },
  {
   "cell_type": "code",
   "execution_count": 23,
   "metadata": {},
   "outputs": [],
   "source": [
    "pd_df_test = pd.concat([pd_df_test, intersection_id_index_test, intersection_id_class_vec_test, \n",
    "                         time_window_index_test, time_window_class_vec_test], axis=1)"
   ]
  },
  {
   "cell_type": "code",
   "execution_count": 24,
   "metadata": {},
   "outputs": [
    {
     "data": {
      "text/html": [
       "<div>\n",
       "<style scoped>\n",
       "    .dataframe tbody tr th:only-of-type {\n",
       "        vertical-align: middle;\n",
       "    }\n",
       "\n",
       "    .dataframe tbody tr th {\n",
       "        vertical-align: top;\n",
       "    }\n",
       "\n",
       "    .dataframe thead th {\n",
       "        text-align: right;\n",
       "    }\n",
       "</style>\n",
       "<table border=\"1\" class=\"dataframe\">\n",
       "  <thead>\n",
       "    <tr style=\"text-align: right;\">\n",
       "      <th></th>\n",
       "      <th>intersection_id</th>\n",
       "      <th>tollgate_id</th>\n",
       "      <th>time_window</th>\n",
       "      <th>average_travl_time</th>\n",
       "      <th>lag1</th>\n",
       "      <th>lag2</th>\n",
       "      <th>lag3</th>\n",
       "      <th>lag4</th>\n",
       "      <th>lag5</th>\n",
       "      <th>lag6</th>\n",
       "      <th>...</th>\n",
       "      <th>74</th>\n",
       "      <th>75</th>\n",
       "      <th>76</th>\n",
       "      <th>77</th>\n",
       "      <th>78</th>\n",
       "      <th>79</th>\n",
       "      <th>80</th>\n",
       "      <th>81</th>\n",
       "      <th>82</th>\n",
       "      <th>83</th>\n",
       "    </tr>\n",
       "  </thead>\n",
       "  <tbody>\n",
       "    <tr>\n",
       "      <td>499</td>\n",
       "      <td>C</td>\n",
       "      <td>3</td>\n",
       "      <td>[2016-10-23 09:40:00,2016-10-23 10:00:00)</td>\n",
       "      <td>0</td>\n",
       "      <td>0</td>\n",
       "      <td>0</td>\n",
       "      <td>0</td>\n",
       "      <td>0</td>\n",
       "      <td>0</td>\n",
       "      <td>0</td>\n",
       "      <td>...</td>\n",
       "      <td>0</td>\n",
       "      <td>0</td>\n",
       "      <td>0</td>\n",
       "      <td>0</td>\n",
       "      <td>0</td>\n",
       "      <td>0</td>\n",
       "      <td>0</td>\n",
       "      <td>0</td>\n",
       "      <td>0</td>\n",
       "      <td>0</td>\n",
       "    </tr>\n",
       "    <tr>\n",
       "      <td>500</td>\n",
       "      <td>C</td>\n",
       "      <td>3</td>\n",
       "      <td>[2016-10-24 08:00:00,2016-10-24 08:20:00)</td>\n",
       "      <td>0</td>\n",
       "      <td>0</td>\n",
       "      <td>0</td>\n",
       "      <td>0</td>\n",
       "      <td>0</td>\n",
       "      <td>0</td>\n",
       "      <td>0</td>\n",
       "      <td>...</td>\n",
       "      <td>0</td>\n",
       "      <td>0</td>\n",
       "      <td>0</td>\n",
       "      <td>0</td>\n",
       "      <td>0</td>\n",
       "      <td>0</td>\n",
       "      <td>0</td>\n",
       "      <td>0</td>\n",
       "      <td>0</td>\n",
       "      <td>0</td>\n",
       "    </tr>\n",
       "    <tr>\n",
       "      <td>501</td>\n",
       "      <td>C</td>\n",
       "      <td>3</td>\n",
       "      <td>[2016-10-24 09:40:00,2016-10-24 10:00:00)</td>\n",
       "      <td>0</td>\n",
       "      <td>0</td>\n",
       "      <td>0</td>\n",
       "      <td>0</td>\n",
       "      <td>0</td>\n",
       "      <td>0</td>\n",
       "      <td>0</td>\n",
       "      <td>...</td>\n",
       "      <td>0</td>\n",
       "      <td>0</td>\n",
       "      <td>0</td>\n",
       "      <td>1</td>\n",
       "      <td>0</td>\n",
       "      <td>0</td>\n",
       "      <td>0</td>\n",
       "      <td>0</td>\n",
       "      <td>0</td>\n",
       "      <td>0</td>\n",
       "    </tr>\n",
       "    <tr>\n",
       "      <td>502</td>\n",
       "      <td>C</td>\n",
       "      <td>3</td>\n",
       "      <td>[2016-10-22 17:00:00,2016-10-22 17:20:00)</td>\n",
       "      <td>0</td>\n",
       "      <td>0</td>\n",
       "      <td>0</td>\n",
       "      <td>0</td>\n",
       "      <td>0</td>\n",
       "      <td>0</td>\n",
       "      <td>0</td>\n",
       "      <td>...</td>\n",
       "      <td>0</td>\n",
       "      <td>0</td>\n",
       "      <td>0</td>\n",
       "      <td>0</td>\n",
       "      <td>0</td>\n",
       "      <td>0</td>\n",
       "      <td>0</td>\n",
       "      <td>0</td>\n",
       "      <td>0</td>\n",
       "      <td>0</td>\n",
       "    </tr>\n",
       "    <tr>\n",
       "      <td>503</td>\n",
       "      <td>C</td>\n",
       "      <td>3</td>\n",
       "      <td>[2016-10-24 18:20:00,2016-10-24 18:40:00)</td>\n",
       "      <td>0</td>\n",
       "      <td>0</td>\n",
       "      <td>0</td>\n",
       "      <td>0</td>\n",
       "      <td>0</td>\n",
       "      <td>0</td>\n",
       "      <td>0</td>\n",
       "      <td>...</td>\n",
       "      <td>0</td>\n",
       "      <td>0</td>\n",
       "      <td>0</td>\n",
       "      <td>0</td>\n",
       "      <td>0</td>\n",
       "      <td>0</td>\n",
       "      <td>0</td>\n",
       "      <td>0</td>\n",
       "      <td>1</td>\n",
       "      <td>0</td>\n",
       "    </tr>\n",
       "  </tbody>\n",
       "</table>\n",
       "<p>5 rows × 155 columns</p>\n",
       "</div>"
      ],
      "text/plain": [
       "    intersection_id  tollgate_id                                time_window  \\\n",
       "499               C            3  [2016-10-23 09:40:00,2016-10-23 10:00:00)   \n",
       "500               C            3  [2016-10-24 08:00:00,2016-10-24 08:20:00)   \n",
       "501               C            3  [2016-10-24 09:40:00,2016-10-24 10:00:00)   \n",
       "502               C            3  [2016-10-22 17:00:00,2016-10-22 17:20:00)   \n",
       "503               C            3  [2016-10-24 18:20:00,2016-10-24 18:40:00)   \n",
       "\n",
       "     average_travl_time  lag1  lag2  lag3  lag4  lag5  lag6  ...  74  75  76  \\\n",
       "499                   0     0     0     0     0     0     0  ...   0   0   0   \n",
       "500                   0     0     0     0     0     0     0  ...   0   0   0   \n",
       "501                   0     0     0     0     0     0     0  ...   0   0   0   \n",
       "502                   0     0     0     0     0     0     0  ...   0   0   0   \n",
       "503                   0     0     0     0     0     0     0  ...   0   0   0   \n",
       "\n",
       "     77  78  79  80  81  82  83  \n",
       "499   0   0   0   0   0   0   0  \n",
       "500   0   0   0   0   0   0   0  \n",
       "501   1   0   0   0   0   0   0  \n",
       "502   0   0   0   0   0   0   0  \n",
       "503   0   0   0   0   0   1   0  \n",
       "\n",
       "[5 rows x 155 columns]"
      ]
     },
     "execution_count": 24,
     "metadata": {},
     "output_type": "execute_result"
    }
   ],
   "source": [
    "pd_df_test.tail()"
   ]
  },
  {
   "cell_type": "code",
   "execution_count": 25,
   "metadata": {},
   "outputs": [],
   "source": [
    "test_set = pd_df_test.drop([\"intersection_id\", \"time_window\"], axis=1)"
   ]
  },
  {
   "cell_type": "code",
   "execution_count": 26,
   "metadata": {},
   "outputs": [],
   "source": [
    "pca = PCA(n_components=10)\n",
    "test_features_pca=pca.fit_transform(test_set.drop(\"average_travl_time\", axis=1))"
   ]
  },
  {
   "cell_type": "code",
   "execution_count": 27,
   "metadata": {},
   "outputs": [
    {
     "data": {
      "text/plain": [
       "(504, 10)"
      ]
     },
     "execution_count": 27,
     "metadata": {},
     "output_type": "execute_result"
    }
   ],
   "source": [
    "scaler=StandardScaler()\n",
    "test_features_scled=scaler.fit_transform(test_features_pca)\n",
    "test_features_scled.shape"
   ]
  },
  {
   "cell_type": "markdown",
   "metadata": {},
   "source": [
    "## Split data train set for train and cross validation"
   ]
  },
  {
   "cell_type": "code",
   "execution_count": 28,
   "metadata": {},
   "outputs": [],
   "source": [
    "from sklearn.model_selection import train_test_split"
   ]
  },
  {
   "cell_type": "code",
   "execution_count": 29,
   "metadata": {},
   "outputs": [],
   "source": [
    "X_train, X_test, y_train, y_test = train_test_split(features_scled, \n",
    "                                                    train_set_y, \n",
    "                                                    test_size=0.30)"
   ]
  },
  {
   "cell_type": "markdown",
   "metadata": {},
   "source": [
    "## Implementing Random Forest Regressor"
   ]
  },
  {
   "cell_type": "code",
   "execution_count": 30,
   "metadata": {},
   "outputs": [],
   "source": [
    "from sklearn.ensemble import RandomForestRegressor"
   ]
  },
  {
   "cell_type": "code",
   "execution_count": 31,
   "metadata": {},
   "outputs": [],
   "source": [
    "r_model = RandomForestRegressor(n_estimators=10)"
   ]
  },
  {
   "cell_type": "code",
   "execution_count": 32,
   "metadata": {},
   "outputs": [
    {
     "data": {
      "text/plain": [
       "RandomForestRegressor(bootstrap=True, criterion='mse', max_depth=None,\n",
       "                      max_features='auto', max_leaf_nodes=None,\n",
       "                      min_impurity_decrease=0.0, min_impurity_split=None,\n",
       "                      min_samples_leaf=1, min_samples_split=2,\n",
       "                      min_weight_fraction_leaf=0.0, n_estimators=10,\n",
       "                      n_jobs=None, oob_score=False, random_state=None,\n",
       "                      verbose=0, warm_start=False)"
      ]
     },
     "execution_count": 32,
     "metadata": {},
     "output_type": "execute_result"
    }
   ],
   "source": [
    "r_model.fit(X_train, y_train)"
   ]
  },
  {
   "cell_type": "code",
   "execution_count": 33,
   "metadata": {},
   "outputs": [],
   "source": [
    "y_pred = r_model.predict(X_test)"
   ]
  },
  {
   "cell_type": "markdown",
   "metadata": {},
   "source": [
    "## Evaluation metrics"
   ]
  },
  {
   "cell_type": "code",
   "execution_count": 34,
   "metadata": {},
   "outputs": [],
   "source": [
    "from sklearn.metrics import mean_squared_error\n",
    "from math import sqrt\n",
    "\n",
    "# MAE,R^2:\n",
    "from sklearn.metrics import mean_absolute_error\n",
    "from sklearn.metrics import r2_score"
   ]
  },
  {
   "cell_type": "markdown",
   "metadata": {},
   "source": [
    "## MAPE Calculation method"
   ]
  },
  {
   "cell_type": "code",
   "execution_count": 35,
   "metadata": {},
   "outputs": [],
   "source": [
    "def Mean_Absolute_Percentage_Error(labl,predction):\n",
    "    labl, predction = np.array(labl), np.array(predction)\n",
    "    return np.mean(np.abs((labl - predction) / labl))"
   ]
  },
  {
   "cell_type": "markdown",
   "metadata": {},
   "source": [
    "## MAPE for Random Forest Regressor"
   ]
  },
  {
   "cell_type": "code",
   "execution_count": 36,
   "metadata": {},
   "outputs": [
    {
     "name": "stdout",
     "output_type": "stream",
     "text": [
      "MAPE for RF 0.25916502549085335\n"
     ]
    }
   ],
   "source": [
    "print(\"MAPE for RF\", Mean_Absolute_Percentage_Error(y_test, y_pred))"
   ]
  },
  {
   "cell_type": "markdown",
   "metadata": {},
   "source": [
    "## Mean Abosute error for Random Forest Regressor"
   ]
  },
  {
   "cell_type": "code",
   "execution_count": 37,
   "metadata": {},
   "outputs": [
    {
     "name": "stdout",
     "output_type": "stream",
     "text": [
      "MAE for RF 27.737714113366522\n"
     ]
    }
   ],
   "source": [
    "mae_rf=mean_absolute_error(y_test, y_pred)\n",
    "print(\"MAE for RF\", mae_rf)"
   ]
  },
  {
   "cell_type": "markdown",
   "metadata": {},
   "source": [
    "## r2_score for Random Forest Regressor"
   ]
  },
  {
   "cell_type": "code",
   "execution_count": 38,
   "metadata": {},
   "outputs": [
    {
     "name": "stdout",
     "output_type": "stream",
     "text": [
      "r2_score for RF 0.49803893021280965\n"
     ]
    }
   ],
   "source": [
    "r2_rf=r2_score(y_test,y_pred)\n",
    "print(\"r2_score for RF\", r2_rf)"
   ]
  },
  {
   "cell_type": "markdown",
   "metadata": {},
   "source": [
    "## Root Mean Squared Error For Random Forest Regressor"
   ]
  },
  {
   "cell_type": "code",
   "execution_count": 39,
   "metadata": {},
   "outputs": [
    {
     "name": "stdout",
     "output_type": "stream",
     "text": [
      "RMSE for RF 40.56701046608705\n"
     ]
    }
   ],
   "source": [
    "#root mean square error metric:\n",
    "\n",
    "rms = np.sqrt(mean_squared_error(y_test, y_pred))\n",
    "print(\"RMSE for RF\", rms)"
   ]
  },
  {
   "cell_type": "code",
   "execution_count": 40,
   "metadata": {},
   "outputs": [
    {
     "name": "stdout",
     "output_type": "stream",
     "text": [
      "MSE for RF 1645.682338155616\n"
     ]
    }
   ],
   "source": [
    "#Not needed, unusually large value to compare the error performance metric.\n",
    "\n",
    "mse = mean_squared_error(y_test, y_pred)\n",
    "print(\"MSE for RF\", mse)"
   ]
  },
  {
   "cell_type": "markdown",
   "metadata": {},
   "source": [
    "## Implementing Gradient Boosting Regressor"
   ]
  },
  {
   "cell_type": "code",
   "execution_count": 41,
   "metadata": {},
   "outputs": [],
   "source": [
    "from sklearn.ensemble import GradientBoostingRegressor"
   ]
  },
  {
   "cell_type": "code",
   "execution_count": 42,
   "metadata": {},
   "outputs": [],
   "source": [
    "gb_reg = GradientBoostingRegressor()"
   ]
  },
  {
   "cell_type": "code",
   "execution_count": 43,
   "metadata": {},
   "outputs": [
    {
     "data": {
      "text/plain": [
       "GradientBoostingRegressor(alpha=0.9, criterion='friedman_mse', init=None,\n",
       "                          learning_rate=0.1, loss='ls', max_depth=3,\n",
       "                          max_features=None, max_leaf_nodes=None,\n",
       "                          min_impurity_decrease=0.0, min_impurity_split=None,\n",
       "                          min_samples_leaf=1, min_samples_split=2,\n",
       "                          min_weight_fraction_leaf=0.0, n_estimators=100,\n",
       "                          n_iter_no_change=None, presort='auto',\n",
       "                          random_state=None, subsample=1.0, tol=0.0001,\n",
       "                          validation_fraction=0.1, verbose=0, warm_start=False)"
      ]
     },
     "execution_count": 43,
     "metadata": {},
     "output_type": "execute_result"
    }
   ],
   "source": [
    "gb_reg.fit(X_train, y_train)"
   ]
  },
  {
   "cell_type": "code",
   "execution_count": 44,
   "metadata": {},
   "outputs": [],
   "source": [
    "gb_pred = gb_reg.predict(X_test)"
   ]
  },
  {
   "cell_type": "markdown",
   "metadata": {},
   "source": [
    "## Evaluation metrics"
   ]
  },
  {
   "cell_type": "code",
   "execution_count": 45,
   "metadata": {},
   "outputs": [
    {
     "name": "stdout",
     "output_type": "stream",
     "text": [
      "MSE for GBR 1462.6099866108539\n"
     ]
    }
   ],
   "source": [
    "# mean squared error\n",
    "\n",
    "mse = mean_squared_error(y_test, gb_pred)\n",
    "print(\"MSE for GBR\", mse)"
   ]
  },
  {
   "cell_type": "code",
   "execution_count": 46,
   "metadata": {},
   "outputs": [
    {
     "name": "stdout",
     "output_type": "stream",
     "text": [
      "RMSE for GBR 38.244084334846534\n"
     ]
    }
   ],
   "source": [
    "# root mean squared error\n",
    "\n",
    "rms_gbt=np.sqrt(mean_squared_error(y_test, gb_pred))\n",
    "print(\"RMSE for GBR\", rms_gbt)"
   ]
  },
  {
   "cell_type": "markdown",
   "metadata": {},
   "source": [
    "## MAPE for Gradient Boosting Regressor"
   ]
  },
  {
   "cell_type": "code",
   "execution_count": 47,
   "metadata": {},
   "outputs": [
    {
     "name": "stdout",
     "output_type": "stream",
     "text": [
      "MAPE for GBR 0.23597822282799474\n"
     ]
    }
   ],
   "source": [
    "print(\"MAPE for GBR\", Mean_Absolute_Percentage_Error(y_test, gb_pred))"
   ]
  },
  {
   "cell_type": "markdown",
   "metadata": {},
   "source": [
    "## MAE for Gradient Boosting Regressor"
   ]
  },
  {
   "cell_type": "code",
   "execution_count": 48,
   "metadata": {},
   "outputs": [
    {
     "name": "stdout",
     "output_type": "stream",
     "text": [
      "MAE for GBR 25.572250855541068\n"
     ]
    }
   ],
   "source": [
    "mae_gbr=mean_absolute_error(y_test, gb_pred)\n",
    "print(\"MAE for GBR\", mae_gbr)"
   ]
  },
  {
   "cell_type": "markdown",
   "metadata": {},
   "source": [
    "## r_2 score for Gradient Boosting Regressor"
   ]
  },
  {
   "cell_type": "code",
   "execution_count": 49,
   "metadata": {},
   "outputs": [
    {
     "name": "stdout",
     "output_type": "stream",
     "text": [
      "r2_score for GBR 0.5538791074446174\n"
     ]
    }
   ],
   "source": [
    "r2_gb=r2_score(y_test,gb_pred)\n",
    "print(\"r2_score for GBR\", r2_gb)"
   ]
  },
  {
   "cell_type": "markdown",
   "metadata": {},
   "source": [
    "## Implementing XGBOOST"
   ]
  },
  {
   "cell_type": "code",
   "execution_count": 50,
   "metadata": {},
   "outputs": [],
   "source": [
    "import xgboost as xgb\n",
    "\n",
    "xgb_model = xgb.XGBRegressor()\n",
    "xgb_model.fit(X_train, y_train)\n",
    "\n",
    "y_pred_xgb = xgb_model.predict(X_test)"
   ]
  },
  {
   "cell_type": "markdown",
   "metadata": {},
   "source": [
    "## Evaluation of XGBoost performance"
   ]
  },
  {
   "cell_type": "code",
   "execution_count": 51,
   "metadata": {},
   "outputs": [
    {
     "name": "stdout",
     "output_type": "stream",
     "text": [
      "MAPE for XGB 0.24239814506453292\n"
     ]
    }
   ],
   "source": [
    "print(\"MAPE for XGB\", Mean_Absolute_Percentage_Error(y_test, y_pred_xgb))"
   ]
  },
  {
   "cell_type": "code",
   "execution_count": 52,
   "metadata": {},
   "outputs": [
    {
     "name": "stdout",
     "output_type": "stream",
     "text": [
      "MAE for XBG 26.203313664564647\n"
     ]
    }
   ],
   "source": [
    "print(\"MAE for XBG\", mean_absolute_error(y_test, y_pred_xgb))"
   ]
  },
  {
   "cell_type": "code",
   "execution_count": 53,
   "metadata": {},
   "outputs": [
    {
     "name": "stdout",
     "output_type": "stream",
     "text": [
      "RMSE for XGB 38.86529705796881\n"
     ]
    }
   ],
   "source": [
    "print(\"RMSE for XGB\", np.sqrt(mean_squared_error(y_test, y_pred_xgb)))"
   ]
  },
  {
   "cell_type": "code",
   "execution_count": 54,
   "metadata": {},
   "outputs": [
    {
     "name": "stdout",
     "output_type": "stream",
     "text": [
      "Mean Squared Error XGB 1510.5113154041592\n"
     ]
    }
   ],
   "source": [
    "print(\"Mean Squared Error XGB\", mean_squared_error(y_test, y_pred_xgb))"
   ]
  },
  {
   "cell_type": "code",
   "execution_count": 55,
   "metadata": {},
   "outputs": [
    {
     "name": "stdout",
     "output_type": "stream",
     "text": [
      "r_2 score XGB 0.5392683884207605\n"
     ]
    }
   ],
   "source": [
    "print(\"r_2 score XGB\", r2_score(y_test,y_pred_xgb))"
   ]
  },
  {
   "cell_type": "markdown",
   "metadata": {},
   "source": [
    "## Conclusion"
   ]
  },
  {
   "cell_type": "markdown",
   "metadata": {},
   "source": [
    "Based on the above experiment we choose Gradient Boosting Regressor as the best model as it has the lowest MAPE score "
   ]
  },
  {
   "cell_type": "markdown",
   "metadata": {},
   "source": [
    "## Predicting on test data"
   ]
  },
  {
   "cell_type": "code",
   "execution_count": 56,
   "metadata": {},
   "outputs": [],
   "source": [
    "pred = gb_reg.predict(test_features_scled)"
   ]
  },
  {
   "cell_type": "code",
   "execution_count": 57,
   "metadata": {},
   "outputs": [],
   "source": [
    "pd_df_test[\"avg_travel_time\"] = pred"
   ]
  },
  {
   "cell_type": "code",
   "execution_count": 58,
   "metadata": {},
   "outputs": [
    {
     "data": {
      "text/html": [
       "<div>\n",
       "<style scoped>\n",
       "    .dataframe tbody tr th:only-of-type {\n",
       "        vertical-align: middle;\n",
       "    }\n",
       "\n",
       "    .dataframe tbody tr th {\n",
       "        vertical-align: top;\n",
       "    }\n",
       "\n",
       "    .dataframe thead th {\n",
       "        text-align: right;\n",
       "    }\n",
       "</style>\n",
       "<table border=\"1\" class=\"dataframe\">\n",
       "  <thead>\n",
       "    <tr style=\"text-align: right;\">\n",
       "      <th></th>\n",
       "      <th>intersection_id</th>\n",
       "      <th>tollgate_id</th>\n",
       "      <th>time_window</th>\n",
       "      <th>avg_travel_time</th>\n",
       "    </tr>\n",
       "  </thead>\n",
       "  <tbody>\n",
       "    <tr>\n",
       "      <td>0</td>\n",
       "      <td>A</td>\n",
       "      <td>2</td>\n",
       "      <td>[2016-10-18 08:00:00,2016-10-18 08:20:00)</td>\n",
       "      <td>105.288172</td>\n",
       "    </tr>\n",
       "    <tr>\n",
       "      <td>1</td>\n",
       "      <td>A</td>\n",
       "      <td>3</td>\n",
       "      <td>[2016-10-18 08:00:00,2016-10-18 08:20:00)</td>\n",
       "      <td>98.217986</td>\n",
       "    </tr>\n",
       "    <tr>\n",
       "      <td>2</td>\n",
       "      <td>B</td>\n",
       "      <td>1</td>\n",
       "      <td>[2016-10-18 08:00:00,2016-10-18 08:20:00)</td>\n",
       "      <td>165.363807</td>\n",
       "    </tr>\n",
       "    <tr>\n",
       "      <td>3</td>\n",
       "      <td>B</td>\n",
       "      <td>3</td>\n",
       "      <td>[2016-10-18 08:00:00,2016-10-18 08:20:00)</td>\n",
       "      <td>137.580930</td>\n",
       "    </tr>\n",
       "    <tr>\n",
       "      <td>4</td>\n",
       "      <td>C</td>\n",
       "      <td>1</td>\n",
       "      <td>[2016-10-18 08:00:00,2016-10-18 08:20:00)</td>\n",
       "      <td>124.256278</td>\n",
       "    </tr>\n",
       "  </tbody>\n",
       "</table>\n",
       "</div>"
      ],
      "text/plain": [
       "  intersection_id  tollgate_id                                time_window  \\\n",
       "0               A            2  [2016-10-18 08:00:00,2016-10-18 08:20:00)   \n",
       "1               A            3  [2016-10-18 08:00:00,2016-10-18 08:20:00)   \n",
       "2               B            1  [2016-10-18 08:00:00,2016-10-18 08:20:00)   \n",
       "3               B            3  [2016-10-18 08:00:00,2016-10-18 08:20:00)   \n",
       "4               C            1  [2016-10-18 08:00:00,2016-10-18 08:20:00)   \n",
       "\n",
       "   avg_travel_time  \n",
       "0       105.288172  \n",
       "1        98.217986  \n",
       "2       165.363807  \n",
       "3       137.580930  \n",
       "4       124.256278  "
      ]
     },
     "execution_count": 58,
     "metadata": {},
     "output_type": "execute_result"
    }
   ],
   "source": [
    "f_data = pd_df_test[[\"intersection_id\",\"tollgate_id\",\"time_window\",\"avg_travel_time\"]]\n",
    "f_data.head()"
   ]
  },
  {
   "cell_type": "code",
   "execution_count": 59,
   "metadata": {},
   "outputs": [],
   "source": [
    "f_data.to_csv(path_or_buf=\"data/task1_submission.csv\", index=False)"
   ]
  }
 ],
 "metadata": {
  "kernelspec": {
   "display_name": "Python 3",
   "language": "python",
   "name": "python3"
  },
  "language_info": {
   "codemirror_mode": {
    "name": "ipython",
    "version": 3
   },
   "file_extension": ".py",
   "mimetype": "text/x-python",
   "name": "python",
   "nbconvert_exporter": "python",
   "pygments_lexer": "ipython3",
   "version": "3.7.4"
  }
 },
 "nbformat": 4,
 "nbformat_minor": 2
}
