{
 "cells": [
  {
   "cell_type": "code",
   "execution_count": 1,
   "metadata": {},
   "outputs": [],
   "source": [
    "import pandas as pd\n",
    "import numpy as np\n",
    "\n",
    "from sklearn.model_selection import train_test_split\n",
    "from sklearn.metrics import explained_variance_score, max_error, mean_squared_error,mean_absolute_error, r2_score\n",
    "import pylab as pl\n",
    "\n",
    "from sklearn.decomposition import PCA\n",
    "from sklearn.svm import SVR"
   ]
  },
  {
   "cell_type": "markdown",
   "metadata": {},
   "source": [
    "## load data"
   ]
  },
  {
   "cell_type": "code",
   "execution_count": 2,
   "metadata": {},
   "outputs": [
    {
     "data": {
      "text/html": [
       "<div>\n",
       "<style scoped>\n",
       "    .dataframe tbody tr th:only-of-type {\n",
       "        vertical-align: middle;\n",
       "    }\n",
       "\n",
       "    .dataframe tbody tr th {\n",
       "        vertical-align: top;\n",
       "    }\n",
       "\n",
       "    .dataframe thead th {\n",
       "        text-align: right;\n",
       "    }\n",
       "</style>\n",
       "<table border=\"1\" class=\"dataframe\">\n",
       "  <thead>\n",
       "    <tr style=\"text-align: right;\">\n",
       "      <th></th>\n",
       "      <th>tollgate_id</th>\n",
       "      <th>direction</th>\n",
       "      <th>precipitation</th>\n",
       "      <th>pressure</th>\n",
       "      <th>rel_humidity</th>\n",
       "      <th>sea_pressure</th>\n",
       "      <th>temperature</th>\n",
       "      <th>wind_direction</th>\n",
       "      <th>wind_speed</th>\n",
       "      <th>volume</th>\n",
       "      <th>...</th>\n",
       "      <th>start_date_year</th>\n",
       "      <th>start_date_month</th>\n",
       "      <th>start_date_day</th>\n",
       "      <th>end_date_year</th>\n",
       "      <th>end_date_month</th>\n",
       "      <th>end_date_day</th>\n",
       "      <th>end_time_hour</th>\n",
       "      <th>end_time_min</th>\n",
       "      <th>start_time_hour</th>\n",
       "      <th>start_time_min</th>\n",
       "    </tr>\n",
       "  </thead>\n",
       "  <tbody>\n",
       "    <tr>\n",
       "      <td>0</td>\n",
       "      <td>2</td>\n",
       "      <td>0</td>\n",
       "      <td>0.0</td>\n",
       "      <td>1013.9</td>\n",
       "      <td>90</td>\n",
       "      <td>1018.9</td>\n",
       "      <td>19.3</td>\n",
       "      <td>322</td>\n",
       "      <td>2.5</td>\n",
       "      <td>18</td>\n",
       "      <td>...</td>\n",
       "      <td>2016.0</td>\n",
       "      <td>10.0</td>\n",
       "      <td>17.0</td>\n",
       "      <td>2016.0</td>\n",
       "      <td>10.0</td>\n",
       "      <td>18.0</td>\n",
       "      <td>0.0</td>\n",
       "      <td>0.0</td>\n",
       "      <td>23.0</td>\n",
       "      <td>40.0</td>\n",
       "    </tr>\n",
       "    <tr>\n",
       "      <td>1</td>\n",
       "      <td>3</td>\n",
       "      <td>0</td>\n",
       "      <td>0.0</td>\n",
       "      <td>1013.9</td>\n",
       "      <td>90</td>\n",
       "      <td>1018.9</td>\n",
       "      <td>19.3</td>\n",
       "      <td>322</td>\n",
       "      <td>2.5</td>\n",
       "      <td>15</td>\n",
       "      <td>...</td>\n",
       "      <td>2016.0</td>\n",
       "      <td>10.0</td>\n",
       "      <td>17.0</td>\n",
       "      <td>2016.0</td>\n",
       "      <td>10.0</td>\n",
       "      <td>18.0</td>\n",
       "      <td>0.0</td>\n",
       "      <td>0.0</td>\n",
       "      <td>23.0</td>\n",
       "      <td>40.0</td>\n",
       "    </tr>\n",
       "    <tr>\n",
       "      <td>2</td>\n",
       "      <td>3</td>\n",
       "      <td>1</td>\n",
       "      <td>0.0</td>\n",
       "      <td>1013.9</td>\n",
       "      <td>90</td>\n",
       "      <td>1018.9</td>\n",
       "      <td>19.3</td>\n",
       "      <td>322</td>\n",
       "      <td>2.5</td>\n",
       "      <td>22</td>\n",
       "      <td>...</td>\n",
       "      <td>2016.0</td>\n",
       "      <td>10.0</td>\n",
       "      <td>17.0</td>\n",
       "      <td>2016.0</td>\n",
       "      <td>10.0</td>\n",
       "      <td>18.0</td>\n",
       "      <td>0.0</td>\n",
       "      <td>0.0</td>\n",
       "      <td>23.0</td>\n",
       "      <td>40.0</td>\n",
       "    </tr>\n",
       "    <tr>\n",
       "      <td>3</td>\n",
       "      <td>1</td>\n",
       "      <td>0</td>\n",
       "      <td>0.0</td>\n",
       "      <td>1013.9</td>\n",
       "      <td>90</td>\n",
       "      <td>1018.9</td>\n",
       "      <td>19.3</td>\n",
       "      <td>322</td>\n",
       "      <td>2.5</td>\n",
       "      <td>2</td>\n",
       "      <td>...</td>\n",
       "      <td>2016.0</td>\n",
       "      <td>10.0</td>\n",
       "      <td>17.0</td>\n",
       "      <td>2016.0</td>\n",
       "      <td>10.0</td>\n",
       "      <td>18.0</td>\n",
       "      <td>0.0</td>\n",
       "      <td>0.0</td>\n",
       "      <td>23.0</td>\n",
       "      <td>40.0</td>\n",
       "    </tr>\n",
       "    <tr>\n",
       "      <td>4</td>\n",
       "      <td>1</td>\n",
       "      <td>1</td>\n",
       "      <td>0.0</td>\n",
       "      <td>1013.9</td>\n",
       "      <td>90</td>\n",
       "      <td>1018.9</td>\n",
       "      <td>19.3</td>\n",
       "      <td>322</td>\n",
       "      <td>2.5</td>\n",
       "      <td>10</td>\n",
       "      <td>...</td>\n",
       "      <td>2016.0</td>\n",
       "      <td>10.0</td>\n",
       "      <td>17.0</td>\n",
       "      <td>2016.0</td>\n",
       "      <td>10.0</td>\n",
       "      <td>18.0</td>\n",
       "      <td>0.0</td>\n",
       "      <td>0.0</td>\n",
       "      <td>23.0</td>\n",
       "      <td>40.0</td>\n",
       "    </tr>\n",
       "  </tbody>\n",
       "</table>\n",
       "<p>5 rows × 21 columns</p>\n",
       "</div>"
      ],
      "text/plain": [
       "   tollgate_id  direction  precipitation  pressure  rel_humidity  \\\n",
       "0            2          0            0.0    1013.9            90   \n",
       "1            3          0            0.0    1013.9            90   \n",
       "2            3          1            0.0    1013.9            90   \n",
       "3            1          0            0.0    1013.9            90   \n",
       "4            1          1            0.0    1013.9            90   \n",
       "\n",
       "   sea_pressure  temperature  wind_direction  wind_speed  volume  ...  \\\n",
       "0        1018.9         19.3             322         2.5      18  ...   \n",
       "1        1018.9         19.3             322         2.5      15  ...   \n",
       "2        1018.9         19.3             322         2.5      22  ...   \n",
       "3        1018.9         19.3             322         2.5       2  ...   \n",
       "4        1018.9         19.3             322         2.5      10  ...   \n",
       "\n",
       "   start_date_year  start_date_month  start_date_day  end_date_year  \\\n",
       "0           2016.0              10.0            17.0         2016.0   \n",
       "1           2016.0              10.0            17.0         2016.0   \n",
       "2           2016.0              10.0            17.0         2016.0   \n",
       "3           2016.0              10.0            17.0         2016.0   \n",
       "4           2016.0              10.0            17.0         2016.0   \n",
       "\n",
       "   end_date_month  end_date_day  end_time_hour  end_time_min  start_time_hour  \\\n",
       "0            10.0          18.0            0.0           0.0             23.0   \n",
       "1            10.0          18.0            0.0           0.0             23.0   \n",
       "2            10.0          18.0            0.0           0.0             23.0   \n",
       "3            10.0          18.0            0.0           0.0             23.0   \n",
       "4            10.0          18.0            0.0           0.0             23.0   \n",
       "\n",
       "   start_time_min  \n",
       "0            40.0  \n",
       "1            40.0  \n",
       "2            40.0  \n",
       "3            40.0  \n",
       "4            40.0  \n",
       "\n",
       "[5 rows x 21 columns]"
      ]
     },
     "execution_count": 2,
     "metadata": {},
     "output_type": "execute_result"
    }
   ],
   "source": [
    "data = pd.read_csv(\"data/preprocessing_data/task_2_master_table_training.csv\")\n",
    "data = data.drop([\"Unnamed: 0\", \"Unnamed: 0.1\"], axis=1)\n",
    "data.head()"
   ]
  },
  {
   "cell_type": "code",
   "execution_count": 3,
   "metadata": {},
   "outputs": [],
   "source": [
    "features = data.drop([\"volume\"], axis=1)"
   ]
  },
  {
   "cell_type": "code",
   "execution_count": 4,
   "metadata": {},
   "outputs": [],
   "source": [
    "label = data[\"volume\"]"
   ]
  },
  {
   "cell_type": "markdown",
   "metadata": {},
   "source": [
    "## Scaling the features"
   ]
  },
  {
   "cell_type": "code",
   "execution_count": 5,
   "metadata": {},
   "outputs": [
    {
     "data": {
      "text/plain": [
       "array([[-3.42242472e-04, -8.40918619e-01, -2.61233539e-01, ...,\n",
       "        -1.22608150e+00,  1.65755005e+00,  1.22579495e+00],\n",
       "       [ 1.09825609e+00, -8.40918619e-01, -2.61233539e-01, ...,\n",
       "        -1.22608150e+00,  1.65755005e+00,  1.22579495e+00],\n",
       "       [ 1.09825609e+00,  1.18917572e+00, -2.61233539e-01, ...,\n",
       "        -1.22608150e+00,  1.65755005e+00,  1.22579495e+00],\n",
       "       ...,\n",
       "       [ 1.09825609e+00,  1.18917572e+00, -2.61233539e-01, ...,\n",
       "        -1.52592595e-03, -1.73439681e+00, -1.22503145e+00],\n",
       "       [-1.09894058e+00, -8.40918619e-01, -2.61233539e-01, ...,\n",
       "        -1.52592595e-03, -1.73439681e+00, -1.22503145e+00],\n",
       "       [-1.09894058e+00,  1.18917572e+00, -2.61233539e-01, ...,\n",
       "        -1.52592595e-03, -1.73439681e+00, -1.22503145e+00]])"
      ]
     },
     "execution_count": 5,
     "metadata": {},
     "output_type": "execute_result"
    }
   ],
   "source": [
    "from sklearn.preprocessing import StandardScaler\n",
    "\n",
    "scaler=StandardScaler()\n",
    "features_scled=scaler.fit_transform(features)\n",
    "features_scled"
   ]
  },
  {
   "cell_type": "markdown",
   "metadata": {},
   "source": [
    "## Spliting features for training and cross validation"
   ]
  },
  {
   "cell_type": "code",
   "execution_count": 6,
   "metadata": {
    "scrolled": true
   },
   "outputs": [],
   "source": [
    "X_train, X_test, y_train, y_test = train_test_split(features_scled, label, test_size = 0.20)"
   ]
  },
  {
   "cell_type": "code",
   "execution_count": 7,
   "metadata": {},
   "outputs": [
    {
     "name": "stdout",
     "output_type": "stream",
     "text": [
      "(7704, 20)\n",
      "(7704,)\n",
      "(1926, 20) (1926,)\n"
     ]
    }
   ],
   "source": [
    "print(X_train.shape)\n",
    "print(y_train.shape)\n",
    "print(X_test.shape, y_test.shape)"
   ]
  },
  {
   "cell_type": "markdown",
   "metadata": {},
   "source": [
    "## Implementing SVR"
   ]
  },
  {
   "cell_type": "code",
   "execution_count": 8,
   "metadata": {},
   "outputs": [],
   "source": [
    "clf_rbf = SVR(kernel='rbf', C=100, gamma=0.005, epsilon=.5)"
   ]
  },
  {
   "cell_type": "code",
   "execution_count": 9,
   "metadata": {},
   "outputs": [
    {
     "data": {
      "text/plain": [
       "SVR(C=100, cache_size=200, coef0=0.0, degree=3, epsilon=0.5, gamma=0.005,\n",
       "    kernel='rbf', max_iter=-1, shrinking=True, tol=0.001, verbose=False)"
      ]
     },
     "execution_count": 9,
     "metadata": {},
     "output_type": "execute_result"
    }
   ],
   "source": [
    "clf_rbf.fit(X_train,y_train)"
   ]
  },
  {
   "cell_type": "code",
   "execution_count": 10,
   "metadata": {},
   "outputs": [],
   "source": [
    "y_pred_rbf = clf_rbf.predict(X_test)"
   ]
  },
  {
   "cell_type": "markdown",
   "metadata": {},
   "source": [
    "## Evaluation Matrics"
   ]
  },
  {
   "cell_type": "code",
   "execution_count": 11,
   "metadata": {},
   "outputs": [
    {
     "name": "stdout",
     "output_type": "stream",
     "text": [
      "explained variance score SVR 0.41475895422867715\n"
     ]
    }
   ],
   "source": [
    "print(\"explained variance score SVR\", explained_variance_score(y_test,y_pred_rbf)) "
   ]
  },
  {
   "cell_type": "code",
   "execution_count": 12,
   "metadata": {},
   "outputs": [
    {
     "name": "stdout",
     "output_type": "stream",
     "text": [
      "max error SVR 236.91023811112922\n"
     ]
    }
   ],
   "source": [
    "print(\"max error SVR\", max_error(y_test,y_pred_rbf)) "
   ]
  },
  {
   "cell_type": "code",
   "execution_count": 13,
   "metadata": {},
   "outputs": [
    {
     "name": "stdout",
     "output_type": "stream",
     "text": [
      "root mean squared error SVR 37.57634751044892\n"
     ]
    }
   ],
   "source": [
    "print(\"root mean squared error SVR\", np.sqrt(mean_squared_error(y_test, y_pred_rbf)))"
   ]
  },
  {
   "cell_type": "markdown",
   "metadata": {},
   "source": [
    "## MAPE Calculation method"
   ]
  },
  {
   "cell_type": "code",
   "execution_count": 14,
   "metadata": {},
   "outputs": [],
   "source": [
    "def Mean_Absolute_Percentage_Error(labl, predction):\n",
    "    labl, predction = np.array(labl), np.array(predction)\n",
    "    return np.mean(np.abs((labl - predction) / labl))"
   ]
  },
  {
   "cell_type": "code",
   "execution_count": 15,
   "metadata": {},
   "outputs": [
    {
     "name": "stdout",
     "output_type": "stream",
     "text": [
      "MAE score for SVR(rbf): 24.424531336086456\n"
     ]
    }
   ],
   "source": [
    "mae_rbf = mean_absolute_error(y_test, y_pred_rbf)\n",
    "print(\"MAE score for SVR(rbf):\", mae_rbf)"
   ]
  },
  {
   "cell_type": "code",
   "execution_count": 16,
   "metadata": {},
   "outputs": [
    {
     "name": "stdout",
     "output_type": "stream",
     "text": [
      "MAPE for SVR 1.2621947504162723\n"
     ]
    }
   ],
   "source": [
    "x = Mean_Absolute_Percentage_Error(y_test, y_pred_rbf)\n",
    "print(\"MAPE for SVR\", x)"
   ]
  },
  {
   "cell_type": "code",
   "execution_count": 17,
   "metadata": {},
   "outputs": [
    {
     "name": "stdout",
     "output_type": "stream",
     "text": [
      "R2 score for SVR(rbf): 0.38307644463994783\n"
     ]
    }
   ],
   "source": [
    "r2_rbf=r2_score(y_test,y_pred_rbf)\n",
    "print(\"R2 score for SVR(rbf):\",r2_rbf)"
   ]
  },
  {
   "cell_type": "markdown",
   "metadata": {},
   "source": [
    "## Implementing XGBOOST"
   ]
  },
  {
   "cell_type": "code",
   "execution_count": 18,
   "metadata": {},
   "outputs": [],
   "source": [
    "import xgboost as xgb"
   ]
  },
  {
   "cell_type": "code",
   "execution_count": 19,
   "metadata": {
    "scrolled": true
   },
   "outputs": [],
   "source": [
    "xgb_model = xgb.XGBRegressor()\n",
    "xgb_model.fit(X_train, y_train)\n",
    "\n",
    "y_pred = xgb_model.predict(X_test)"
   ]
  },
  {
   "cell_type": "markdown",
   "metadata": {},
   "source": [
    "## Evaluation Metrics"
   ]
  },
  {
   "cell_type": "code",
   "execution_count": 20,
   "metadata": {},
   "outputs": [
    {
     "name": "stdout",
     "output_type": "stream",
     "text": [
      "explained variance score XGB 0.9258814626352956\n"
     ]
    }
   ],
   "source": [
    "print(\"explained variance score XGB\", explained_variance_score(y_test,y_pred))"
   ]
  },
  {
   "cell_type": "code",
   "execution_count": 21,
   "metadata": {},
   "outputs": [
    {
     "name": "stdout",
     "output_type": "stream",
     "text": [
      "max error XGB 166.06109619140625\n"
     ]
    }
   ],
   "source": [
    "print(\"max error XGB\", max_error(y_test,y_pred))"
   ]
  },
  {
   "cell_type": "code",
   "execution_count": 22,
   "metadata": {},
   "outputs": [
    {
     "name": "stdout",
     "output_type": "stream",
     "text": [
      "root mean squared error XGB 13.027745113282748\n"
     ]
    }
   ],
   "source": [
    "mse = np.sqrt(mean_squared_error(y_test, y_pred))\n",
    "print(\"root mean squared error XGB\", mse)"
   ]
  },
  {
   "cell_type": "code",
   "execution_count": 23,
   "metadata": {},
   "outputs": [
    {
     "name": "stdout",
     "output_type": "stream",
     "text": [
      "MAE XGBoost 8.344170715686936\n"
     ]
    }
   ],
   "source": [
    "mae_xgb=mean_absolute_error(y_test, y_pred)\n",
    "print(\"MAE XGBoost\", mae_xgb)"
   ]
  },
  {
   "cell_type": "code",
   "execution_count": 24,
   "metadata": {},
   "outputs": [
    {
     "name": "stdout",
     "output_type": "stream",
     "text": [
      "MAPE XGB 0.32746105917304824\n"
     ]
    }
   ],
   "source": [
    "x = Mean_Absolute_Percentage_Error(y_test,y_pred)\n",
    "print(\"MAPE XGB\", x)"
   ]
  },
  {
   "cell_type": "code",
   "execution_count": 25,
   "metadata": {},
   "outputs": [
    {
     "name": "stdout",
     "output_type": "stream",
     "text": [
      "R2 score for XGB: 0.9258449500684762\n"
     ]
    }
   ],
   "source": [
    "r2_xgb=r2_score(y_test,y_pred)\n",
    "print(\"R2 score for XGB:\",r2_xgb)"
   ]
  },
  {
   "cell_type": "markdown",
   "metadata": {},
   "source": [
    "## Implementing Random Forest Regressor"
   ]
  },
  {
   "cell_type": "code",
   "execution_count": 26,
   "metadata": {
    "scrolled": true
   },
   "outputs": [
    {
     "name": "stderr",
     "output_type": "stream",
     "text": [
      "/home/agni-ubuntu/anaconda3/lib/python3.7/site-packages/sklearn/ensemble/forest.py:245: FutureWarning: The default value of n_estimators will change from 10 in version 0.20 to 100 in 0.22.\n",
      "  \"10 in version 0.20 to 100 in 0.22.\", FutureWarning)\n"
     ]
    }
   ],
   "source": [
    "from sklearn.ensemble import RandomForestRegressor\n",
    "\n",
    "regr = RandomForestRegressor(max_depth=40)\n",
    "regr.fit(X_train, y_train)\n",
    "y_pred_rg=regr.predict(X_test)"
   ]
  },
  {
   "cell_type": "markdown",
   "metadata": {},
   "source": [
    "## Evaluation Metrics"
   ]
  },
  {
   "cell_type": "code",
   "execution_count": 27,
   "metadata": {},
   "outputs": [
    {
     "name": "stdout",
     "output_type": "stream",
     "text": [
      "explained variance score RF 0.9023975025311388\n"
     ]
    }
   ],
   "source": [
    "print(\"explained variance score RF\", explained_variance_score(y_test, y_pred_rg))"
   ]
  },
  {
   "cell_type": "code",
   "execution_count": 28,
   "metadata": {},
   "outputs": [
    {
     "name": "stdout",
     "output_type": "stream",
     "text": [
      "max error RF 229.0\n"
     ]
    }
   ],
   "source": [
    "print(\"max error RF\", max_error(y_test, y_pred_rg))"
   ]
  },
  {
   "cell_type": "code",
   "execution_count": 29,
   "metadata": {},
   "outputs": [
    {
     "name": "stdout",
     "output_type": "stream",
     "text": [
      "root mean Squared Error RF 14.952195544787177\n"
     ]
    }
   ],
   "source": [
    "mse_regr=np.sqrt(mean_squared_error(y_test, y_pred_rg))\n",
    "print(\"root mean Squared Error RF\", mse_regr)"
   ]
  },
  {
   "cell_type": "code",
   "execution_count": 30,
   "metadata": {},
   "outputs": [
    {
     "name": "stdout",
     "output_type": "stream",
     "text": [
      "MAE score for Random Forest: 8.5073727933541\n"
     ]
    }
   ],
   "source": [
    "mae_rf=mean_absolute_error(y_test, y_pred_rg)\n",
    "print(\"MAE score for Random Forest:\",mae_rf)"
   ]
  },
  {
   "cell_type": "code",
   "execution_count": 31,
   "metadata": {},
   "outputs": [
    {
     "name": "stdout",
     "output_type": "stream",
     "text": [
      "MAPE for RF 0.3124226838372659\n"
     ]
    }
   ],
   "source": [
    "x = Mean_Absolute_Percentage_Error(y_test, y_pred_rg)\n",
    "print(\"MAPE for RF\", x)"
   ]
  },
  {
   "cell_type": "code",
   "execution_count": 32,
   "metadata": {},
   "outputs": [
    {
     "name": "stdout",
     "output_type": "stream",
     "text": [
      "R2 score for Random Forest: 0.9023185355877335\n"
     ]
    }
   ],
   "source": [
    "r2_rf=r2_score(y_test,y_pred_rg)\n",
    "print(\"R2 score for Random Forest:\",r2_rf)"
   ]
  },
  {
   "cell_type": "markdown",
   "metadata": {},
   "source": [
    "## Implementing Ada Boost Regressor"
   ]
  },
  {
   "cell_type": "code",
   "execution_count": 33,
   "metadata": {},
   "outputs": [],
   "source": [
    "from sklearn.ensemble import AdaBoostRegressor\n",
    "\n",
    "regar = AdaBoostRegressor(n_estimators=10,learning_rate=1)\n",
    "regar.fit(X_train, y_train)\n",
    "y_pred_regar=regar.predict(X_test)"
   ]
  },
  {
   "cell_type": "markdown",
   "metadata": {},
   "source": [
    "## Evaluation Metrics"
   ]
  },
  {
   "cell_type": "code",
   "execution_count": 34,
   "metadata": {},
   "outputs": [
    {
     "name": "stdout",
     "output_type": "stream",
     "text": [
      "root mean squared error Adaboost 32.566549747872244\n"
     ]
    }
   ],
   "source": [
    "mse_regar=np.sqrt(mean_squared_error(y_test,y_pred_regar))\n",
    "print(\"root mean squared error Adaboost\", mse_regar)"
   ]
  },
  {
   "cell_type": "code",
   "execution_count": 35,
   "metadata": {},
   "outputs": [
    {
     "name": "stdout",
     "output_type": "stream",
     "text": [
      "MAE score for Adaboost: 23.827251433839184\n"
     ]
    }
   ],
   "source": [
    "mae_ada=mean_absolute_error(y_test, y_pred_regar)\n",
    "print(\"MAE score for Adaboost:\",mae_ada)"
   ]
  },
  {
   "cell_type": "code",
   "execution_count": 36,
   "metadata": {},
   "outputs": [
    {
     "name": "stdout",
     "output_type": "stream",
     "text": [
      "MAPE for Adaboost 1.4302398181478535\n"
     ]
    }
   ],
   "source": [
    "x = Mean_Absolute_Percentage_Error(y_test,y_pred_regar)\n",
    "print(\"MAPE for Adaboost\", x)"
   ]
  },
  {
   "cell_type": "code",
   "execution_count": 37,
   "metadata": {},
   "outputs": [
    {
     "name": "stdout",
     "output_type": "stream",
     "text": [
      "R2 score for Adaboost: 0.5366109946704889\n"
     ]
    }
   ],
   "source": [
    "r2_ada=r2_score(y_test,y_pred_regar)\n",
    "print(\"R2 score for Adaboost:\",r2_ada)"
   ]
  },
  {
   "cell_type": "markdown",
   "metadata": {},
   "source": [
    "## Adjusted R2"
   ]
  },
  {
   "cell_type": "code",
   "execution_count": 38,
   "metadata": {},
   "outputs": [
    {
     "name": "stdout",
     "output_type": "stream",
     "text": [
      "adjusted_r2 SVR 0.38172804802644233\n",
      "adjusted_r2 Ada Boost 0.5355981752375247\n"
     ]
    }
   ],
   "source": [
    "#Adjusted R2:\n",
    "def adjusted_r2(r2):\n",
    "    adj_r2 = (1 - (1 - r2) * ((data.shape[0] - 1) / \n",
    "          (data.shape[0] - data.shape[1] - 1)))\n",
    "    return adj_r2\n",
    "\n",
    "print(\"adjusted_r2 SVR\", adjusted_r2(r2_rbf))\n",
    "print(\"adjusted_r2 Ada Boost\",adjusted_r2(r2_ada))"
   ]
  },
  {
   "cell_type": "markdown",
   "metadata": {},
   "source": [
    "## Conclusion"
   ]
  },
  {
   "cell_type": "markdown",
   "metadata": {},
   "source": [
    "Based on the Above result Random Forest Regressor gives the lowest MAPE score"
   ]
  },
  {
   "cell_type": "markdown",
   "metadata": {},
   "source": [
    "## Predicting on Test data"
   ]
  },
  {
   "cell_type": "code",
   "execution_count": 44,
   "metadata": {},
   "outputs": [
    {
     "data": {
      "text/html": [
       "<div>\n",
       "<style scoped>\n",
       "    .dataframe tbody tr th:only-of-type {\n",
       "        vertical-align: middle;\n",
       "    }\n",
       "\n",
       "    .dataframe tbody tr th {\n",
       "        vertical-align: top;\n",
       "    }\n",
       "\n",
       "    .dataframe thead th {\n",
       "        text-align: right;\n",
       "    }\n",
       "</style>\n",
       "<table border=\"1\" class=\"dataframe\">\n",
       "  <thead>\n",
       "    <tr style=\"text-align: right;\">\n",
       "      <th></th>\n",
       "      <th>Unnamed: 0</th>\n",
       "      <th>Unnamed: 0.1</th>\n",
       "      <th>Unnamed: 0.1.1</th>\n",
       "      <th>tollgate_id</th>\n",
       "      <th>direction</th>\n",
       "      <th>precipitation</th>\n",
       "      <th>pressure</th>\n",
       "      <th>rel_humidity</th>\n",
       "      <th>sea_pressure</th>\n",
       "      <th>temperature</th>\n",
       "      <th>...</th>\n",
       "      <th>start_date_year</th>\n",
       "      <th>start_date_month</th>\n",
       "      <th>start_date_day</th>\n",
       "      <th>end_date_year</th>\n",
       "      <th>end_date_month</th>\n",
       "      <th>end_date_day</th>\n",
       "      <th>end_time_hour</th>\n",
       "      <th>end_time_min</th>\n",
       "      <th>start_time_hour</th>\n",
       "      <th>start_time_min</th>\n",
       "    </tr>\n",
       "  </thead>\n",
       "  <tbody>\n",
       "    <tr>\n",
       "      <td>0</td>\n",
       "      <td>0</td>\n",
       "      <td>0</td>\n",
       "      <td>0</td>\n",
       "      <td>2</td>\n",
       "      <td>0</td>\n",
       "      <td>0.0</td>\n",
       "      <td>1008.0</td>\n",
       "      <td>91</td>\n",
       "      <td>1013.0</td>\n",
       "      <td>21.0</td>\n",
       "      <td>...</td>\n",
       "      <td>2016.0</td>\n",
       "      <td>10.0</td>\n",
       "      <td>24.0</td>\n",
       "      <td>2016.0</td>\n",
       "      <td>10.0</td>\n",
       "      <td>24.0</td>\n",
       "      <td>17.0</td>\n",
       "      <td>0.0</td>\n",
       "      <td>16.0</td>\n",
       "      <td>40.0</td>\n",
       "    </tr>\n",
       "    <tr>\n",
       "      <td>1</td>\n",
       "      <td>1</td>\n",
       "      <td>1</td>\n",
       "      <td>1</td>\n",
       "      <td>3</td>\n",
       "      <td>0</td>\n",
       "      <td>0.0</td>\n",
       "      <td>1008.0</td>\n",
       "      <td>91</td>\n",
       "      <td>1013.0</td>\n",
       "      <td>21.0</td>\n",
       "      <td>...</td>\n",
       "      <td>2016.0</td>\n",
       "      <td>10.0</td>\n",
       "      <td>24.0</td>\n",
       "      <td>2016.0</td>\n",
       "      <td>10.0</td>\n",
       "      <td>24.0</td>\n",
       "      <td>17.0</td>\n",
       "      <td>0.0</td>\n",
       "      <td>16.0</td>\n",
       "      <td>40.0</td>\n",
       "    </tr>\n",
       "    <tr>\n",
       "      <td>2</td>\n",
       "      <td>2</td>\n",
       "      <td>2</td>\n",
       "      <td>2</td>\n",
       "      <td>3</td>\n",
       "      <td>1</td>\n",
       "      <td>0.0</td>\n",
       "      <td>1008.0</td>\n",
       "      <td>91</td>\n",
       "      <td>1013.0</td>\n",
       "      <td>21.0</td>\n",
       "      <td>...</td>\n",
       "      <td>2016.0</td>\n",
       "      <td>10.0</td>\n",
       "      <td>24.0</td>\n",
       "      <td>2016.0</td>\n",
       "      <td>10.0</td>\n",
       "      <td>24.0</td>\n",
       "      <td>17.0</td>\n",
       "      <td>0.0</td>\n",
       "      <td>16.0</td>\n",
       "      <td>40.0</td>\n",
       "    </tr>\n",
       "    <tr>\n",
       "      <td>3</td>\n",
       "      <td>3</td>\n",
       "      <td>3</td>\n",
       "      <td>3</td>\n",
       "      <td>1</td>\n",
       "      <td>0</td>\n",
       "      <td>0.0</td>\n",
       "      <td>1008.0</td>\n",
       "      <td>91</td>\n",
       "      <td>1013.0</td>\n",
       "      <td>21.0</td>\n",
       "      <td>...</td>\n",
       "      <td>2016.0</td>\n",
       "      <td>10.0</td>\n",
       "      <td>24.0</td>\n",
       "      <td>2016.0</td>\n",
       "      <td>10.0</td>\n",
       "      <td>24.0</td>\n",
       "      <td>17.0</td>\n",
       "      <td>0.0</td>\n",
       "      <td>16.0</td>\n",
       "      <td>40.0</td>\n",
       "    </tr>\n",
       "    <tr>\n",
       "      <td>4</td>\n",
       "      <td>4</td>\n",
       "      <td>4</td>\n",
       "      <td>4</td>\n",
       "      <td>1</td>\n",
       "      <td>1</td>\n",
       "      <td>0.0</td>\n",
       "      <td>1008.0</td>\n",
       "      <td>91</td>\n",
       "      <td>1013.0</td>\n",
       "      <td>21.0</td>\n",
       "      <td>...</td>\n",
       "      <td>2016.0</td>\n",
       "      <td>10.0</td>\n",
       "      <td>24.0</td>\n",
       "      <td>2016.0</td>\n",
       "      <td>10.0</td>\n",
       "      <td>24.0</td>\n",
       "      <td>17.0</td>\n",
       "      <td>0.0</td>\n",
       "      <td>16.0</td>\n",
       "      <td>40.0</td>\n",
       "    </tr>\n",
       "  </tbody>\n",
       "</table>\n",
       "<p>5 rows × 24 columns</p>\n",
       "</div>"
      ],
      "text/plain": [
       "   Unnamed: 0  Unnamed: 0.1  Unnamed: 0.1.1  tollgate_id  direction  \\\n",
       "0           0             0               0            2          0   \n",
       "1           1             1               1            3          0   \n",
       "2           2             2               2            3          1   \n",
       "3           3             3               3            1          0   \n",
       "4           4             4               4            1          1   \n",
       "\n",
       "   precipitation  pressure  rel_humidity  sea_pressure  temperature  ...  \\\n",
       "0            0.0    1008.0            91        1013.0         21.0  ...   \n",
       "1            0.0    1008.0            91        1013.0         21.0  ...   \n",
       "2            0.0    1008.0            91        1013.0         21.0  ...   \n",
       "3            0.0    1008.0            91        1013.0         21.0  ...   \n",
       "4            0.0    1008.0            91        1013.0         21.0  ...   \n",
       "\n",
       "   start_date_year  start_date_month  start_date_day  end_date_year  \\\n",
       "0           2016.0              10.0            24.0         2016.0   \n",
       "1           2016.0              10.0            24.0         2016.0   \n",
       "2           2016.0              10.0            24.0         2016.0   \n",
       "3           2016.0              10.0            24.0         2016.0   \n",
       "4           2016.0              10.0            24.0         2016.0   \n",
       "\n",
       "   end_date_month  end_date_day  end_time_hour  end_time_min  start_time_hour  \\\n",
       "0            10.0          24.0           17.0           0.0             16.0   \n",
       "1            10.0          24.0           17.0           0.0             16.0   \n",
       "2            10.0          24.0           17.0           0.0             16.0   \n",
       "3            10.0          24.0           17.0           0.0             16.0   \n",
       "4            10.0          24.0           17.0           0.0             16.0   \n",
       "\n",
       "   start_time_min  \n",
       "0            40.0  \n",
       "1            40.0  \n",
       "2            40.0  \n",
       "3            40.0  \n",
       "4            40.0  \n",
       "\n",
       "[5 rows x 24 columns]"
      ]
     },
     "execution_count": 44,
     "metadata": {},
     "output_type": "execute_result"
    }
   ],
   "source": [
    "t_data = pd.read_csv(\"data/preprocessing_data/task_2_master_table_test.csv\")\n",
    "t_data.head()"
   ]
  },
  {
   "cell_type": "code",
   "execution_count": 45,
   "metadata": {},
   "outputs": [],
   "source": [
    "t_data = t_data.drop([\"Unnamed: 0\", \"Unnamed: 0.1\", \"Unnamed: 0.1.1\"], axis=1)"
   ]
  },
  {
   "cell_type": "code",
   "execution_count": 46,
   "metadata": {},
   "outputs": [
    {
     "data": {
      "text/plain": [
       "Index(['tollgate_id', 'direction', 'precipitation', 'pressure', 'rel_humidity',\n",
       "       'sea_pressure', 'temperature', 'wind_direction', 'wind_speed', 'volume',\n",
       "       'weekday', 'start_date_year', 'start_date_month', 'start_date_day',\n",
       "       'end_date_year', 'end_date_month', 'end_date_day', 'end_time_hour',\n",
       "       'end_time_min', 'start_time_hour', 'start_time_min'],\n",
       "      dtype='object')"
      ]
     },
     "execution_count": 46,
     "metadata": {},
     "output_type": "execute_result"
    }
   ],
   "source": [
    "t_data.columns"
   ]
  },
  {
   "cell_type": "code",
   "execution_count": 47,
   "metadata": {},
   "outputs": [
    {
     "data": {
      "text/plain": [
       "array([[ 0.        , -0.81649658, -0.71675983, ..., -1.22474487,\n",
       "         1.10431526,  1.22474487],\n",
       "       [ 1.11803399, -0.81649658, -0.71675983, ..., -1.22474487,\n",
       "         1.10431526,  1.22474487],\n",
       "       [ 1.11803399,  1.22474487, -0.71675983, ..., -1.22474487,\n",
       "         1.10431526,  1.22474487],\n",
       "       ...,\n",
       "       [ 1.11803399,  1.22474487, -0.71675983, ...,  0.        ,\n",
       "        -1.10431526, -1.22474487],\n",
       "       [-1.11803399, -0.81649658, -0.71675983, ...,  0.        ,\n",
       "        -1.10431526, -1.22474487],\n",
       "       [-1.11803399,  1.22474487, -0.71675983, ...,  0.        ,\n",
       "        -1.10431526, -1.22474487]])"
      ]
     },
     "execution_count": 47,
     "metadata": {},
     "output_type": "execute_result"
    }
   ],
   "source": [
    "t_data = t_data.drop(\"volume\", axis=1)\n",
    "scaler=StandardScaler()\n",
    "features_scled=scaler.fit_transform(t_data)\n",
    "features_scled"
   ]
  },
  {
   "cell_type": "code",
   "execution_count": 48,
   "metadata": {},
   "outputs": [],
   "source": [
    "f_pred = regr.predict(features_scled)"
   ]
  },
  {
   "cell_type": "code",
   "execution_count": 49,
   "metadata": {},
   "outputs": [],
   "source": [
    "t_data[\"volume\"] = f_pred"
   ]
  },
  {
   "cell_type": "code",
   "execution_count": 50,
   "metadata": {},
   "outputs": [
    {
     "data": {
      "text/html": [
       "<div>\n",
       "<style scoped>\n",
       "    .dataframe tbody tr th:only-of-type {\n",
       "        vertical-align: middle;\n",
       "    }\n",
       "\n",
       "    .dataframe tbody tr th {\n",
       "        vertical-align: top;\n",
       "    }\n",
       "\n",
       "    .dataframe thead th {\n",
       "        text-align: right;\n",
       "    }\n",
       "</style>\n",
       "<table border=\"1\" class=\"dataframe\">\n",
       "  <thead>\n",
       "    <tr style=\"text-align: right;\">\n",
       "      <th></th>\n",
       "      <th>tollgate_id</th>\n",
       "      <th>direction</th>\n",
       "      <th>precipitation</th>\n",
       "      <th>pressure</th>\n",
       "      <th>rel_humidity</th>\n",
       "      <th>sea_pressure</th>\n",
       "      <th>temperature</th>\n",
       "      <th>wind_direction</th>\n",
       "      <th>wind_speed</th>\n",
       "      <th>weekday</th>\n",
       "      <th>...</th>\n",
       "      <th>start_date_month</th>\n",
       "      <th>start_date_day</th>\n",
       "      <th>end_date_year</th>\n",
       "      <th>end_date_month</th>\n",
       "      <th>end_date_day</th>\n",
       "      <th>end_time_hour</th>\n",
       "      <th>end_time_min</th>\n",
       "      <th>start_time_hour</th>\n",
       "      <th>start_time_min</th>\n",
       "      <th>volume</th>\n",
       "    </tr>\n",
       "  </thead>\n",
       "  <tbody>\n",
       "    <tr>\n",
       "      <td>0</td>\n",
       "      <td>2</td>\n",
       "      <td>0</td>\n",
       "      <td>0.0</td>\n",
       "      <td>1008.0</td>\n",
       "      <td>91</td>\n",
       "      <td>1013.0</td>\n",
       "      <td>21.0</td>\n",
       "      <td>210</td>\n",
       "      <td>1.4</td>\n",
       "      <td>0</td>\n",
       "      <td>...</td>\n",
       "      <td>10.0</td>\n",
       "      <td>24.0</td>\n",
       "      <td>2016.0</td>\n",
       "      <td>10.0</td>\n",
       "      <td>24.0</td>\n",
       "      <td>17.0</td>\n",
       "      <td>0.0</td>\n",
       "      <td>16.0</td>\n",
       "      <td>40.0</td>\n",
       "      <td>37.8</td>\n",
       "    </tr>\n",
       "    <tr>\n",
       "      <td>1</td>\n",
       "      <td>3</td>\n",
       "      <td>0</td>\n",
       "      <td>0.0</td>\n",
       "      <td>1008.0</td>\n",
       "      <td>91</td>\n",
       "      <td>1013.0</td>\n",
       "      <td>21.0</td>\n",
       "      <td>210</td>\n",
       "      <td>1.4</td>\n",
       "      <td>0</td>\n",
       "      <td>...</td>\n",
       "      <td>10.0</td>\n",
       "      <td>24.0</td>\n",
       "      <td>2016.0</td>\n",
       "      <td>10.0</td>\n",
       "      <td>24.0</td>\n",
       "      <td>17.0</td>\n",
       "      <td>0.0</td>\n",
       "      <td>16.0</td>\n",
       "      <td>40.0</td>\n",
       "      <td>61.5</td>\n",
       "    </tr>\n",
       "    <tr>\n",
       "      <td>2</td>\n",
       "      <td>3</td>\n",
       "      <td>1</td>\n",
       "      <td>0.0</td>\n",
       "      <td>1008.0</td>\n",
       "      <td>91</td>\n",
       "      <td>1013.0</td>\n",
       "      <td>21.0</td>\n",
       "      <td>210</td>\n",
       "      <td>1.4</td>\n",
       "      <td>0</td>\n",
       "      <td>...</td>\n",
       "      <td>10.0</td>\n",
       "      <td>24.0</td>\n",
       "      <td>2016.0</td>\n",
       "      <td>10.0</td>\n",
       "      <td>24.0</td>\n",
       "      <td>17.0</td>\n",
       "      <td>0.0</td>\n",
       "      <td>16.0</td>\n",
       "      <td>40.0</td>\n",
       "      <td>33.3</td>\n",
       "    </tr>\n",
       "    <tr>\n",
       "      <td>3</td>\n",
       "      <td>1</td>\n",
       "      <td>0</td>\n",
       "      <td>0.0</td>\n",
       "      <td>1008.0</td>\n",
       "      <td>91</td>\n",
       "      <td>1013.0</td>\n",
       "      <td>21.0</td>\n",
       "      <td>210</td>\n",
       "      <td>1.4</td>\n",
       "      <td>0</td>\n",
       "      <td>...</td>\n",
       "      <td>10.0</td>\n",
       "      <td>24.0</td>\n",
       "      <td>2016.0</td>\n",
       "      <td>10.0</td>\n",
       "      <td>24.0</td>\n",
       "      <td>17.0</td>\n",
       "      <td>0.0</td>\n",
       "      <td>16.0</td>\n",
       "      <td>40.0</td>\n",
       "      <td>24.7</td>\n",
       "    </tr>\n",
       "    <tr>\n",
       "      <td>4</td>\n",
       "      <td>1</td>\n",
       "      <td>1</td>\n",
       "      <td>0.0</td>\n",
       "      <td>1008.0</td>\n",
       "      <td>91</td>\n",
       "      <td>1013.0</td>\n",
       "      <td>21.0</td>\n",
       "      <td>210</td>\n",
       "      <td>1.4</td>\n",
       "      <td>0</td>\n",
       "      <td>...</td>\n",
       "      <td>10.0</td>\n",
       "      <td>24.0</td>\n",
       "      <td>2016.0</td>\n",
       "      <td>10.0</td>\n",
       "      <td>24.0</td>\n",
       "      <td>17.0</td>\n",
       "      <td>0.0</td>\n",
       "      <td>16.0</td>\n",
       "      <td>40.0</td>\n",
       "      <td>38.3</td>\n",
       "    </tr>\n",
       "  </tbody>\n",
       "</table>\n",
       "<p>5 rows × 21 columns</p>\n",
       "</div>"
      ],
      "text/plain": [
       "   tollgate_id  direction  precipitation  pressure  rel_humidity  \\\n",
       "0            2          0            0.0    1008.0            91   \n",
       "1            3          0            0.0    1008.0            91   \n",
       "2            3          1            0.0    1008.0            91   \n",
       "3            1          0            0.0    1008.0            91   \n",
       "4            1          1            0.0    1008.0            91   \n",
       "\n",
       "   sea_pressure  temperature  wind_direction  wind_speed  weekday  ...  \\\n",
       "0        1013.0         21.0             210         1.4        0  ...   \n",
       "1        1013.0         21.0             210         1.4        0  ...   \n",
       "2        1013.0         21.0             210         1.4        0  ...   \n",
       "3        1013.0         21.0             210         1.4        0  ...   \n",
       "4        1013.0         21.0             210         1.4        0  ...   \n",
       "\n",
       "   start_date_month  start_date_day  end_date_year  end_date_month  \\\n",
       "0              10.0            24.0         2016.0            10.0   \n",
       "1              10.0            24.0         2016.0            10.0   \n",
       "2              10.0            24.0         2016.0            10.0   \n",
       "3              10.0            24.0         2016.0            10.0   \n",
       "4              10.0            24.0         2016.0            10.0   \n",
       "\n",
       "   end_date_day  end_time_hour  end_time_min  start_time_hour  start_time_min  \\\n",
       "0          24.0           17.0           0.0             16.0            40.0   \n",
       "1          24.0           17.0           0.0             16.0            40.0   \n",
       "2          24.0           17.0           0.0             16.0            40.0   \n",
       "3          24.0           17.0           0.0             16.0            40.0   \n",
       "4          24.0           17.0           0.0             16.0            40.0   \n",
       "\n",
       "   volume  \n",
       "0    37.8  \n",
       "1    61.5  \n",
       "2    33.3  \n",
       "3    24.7  \n",
       "4    38.3  \n",
       "\n",
       "[5 rows x 21 columns]"
      ]
     },
     "execution_count": 50,
     "metadata": {},
     "output_type": "execute_result"
    }
   ],
   "source": [
    "t_data.head()"
   ]
  },
  {
   "cell_type": "code",
   "execution_count": 51,
   "metadata": {},
   "outputs": [],
   "source": [
    "time_window = list()\n",
    "for idx, row in t_data.iterrows():\n",
    "    s_y = str(row[\"start_date_year\"]).split(\".\")[0]\n",
    "    s_m = str(row[\"start_date_month\"]).split(\".\")[0]\n",
    "    s_d = str(row[\"start_date_day\"]).split(\".\")[0]\n",
    "    s_h = str(row[\"start_time_hour\"]).split(\".\")[0]\n",
    "    s_min = str(row[\"start_time_min\"]).split(\".\")[0]\n",
    "    if s_min == \"0\":\n",
    "        s_min = \"00\"\n",
    "    \n",
    "    e_y = str(row[\"end_date_year\"]).split(\".\")[0]\n",
    "    e_m = str(row[\"end_date_month\"]).split(\".\")[0]\n",
    "    e_d = str(row[\"end_date_day\"]).split(\".\")[0]\n",
    "    e_h = str(row[\"end_time_hour\"]).split(\".\")[0]\n",
    "    e_min = str(row[\"end_time_min\"]).split(\".\")[0]\n",
    "    if e_min == \"0\":\n",
    "        e_min = \"00\"\n",
    "    \n",
    "    temp = \"[\"+s_y+\"-\"+s_m+\"-\"+s_d+\" \"+s_h+\":\"+s_min+\":\"+\"00,\"+e_y+\"-\"+e_m+\"-\"+e_d+\" \"+e_h+\":\"+e_min+\":\"+\"00)\"\n",
    "    time_window.append(temp)\n",
    "    \n",
    "t_data[\"time_window\"] = time_window"
   ]
  },
  {
   "cell_type": "code",
   "execution_count": 52,
   "metadata": {},
   "outputs": [
    {
     "data": {
      "text/html": [
       "<div>\n",
       "<style scoped>\n",
       "    .dataframe tbody tr th:only-of-type {\n",
       "        vertical-align: middle;\n",
       "    }\n",
       "\n",
       "    .dataframe tbody tr th {\n",
       "        vertical-align: top;\n",
       "    }\n",
       "\n",
       "    .dataframe thead th {\n",
       "        text-align: right;\n",
       "    }\n",
       "</style>\n",
       "<table border=\"1\" class=\"dataframe\">\n",
       "  <thead>\n",
       "    <tr style=\"text-align: right;\">\n",
       "      <th></th>\n",
       "      <th>tollgate_id</th>\n",
       "      <th>direction</th>\n",
       "      <th>precipitation</th>\n",
       "      <th>pressure</th>\n",
       "      <th>rel_humidity</th>\n",
       "      <th>sea_pressure</th>\n",
       "      <th>temperature</th>\n",
       "      <th>wind_direction</th>\n",
       "      <th>wind_speed</th>\n",
       "      <th>weekday</th>\n",
       "      <th>...</th>\n",
       "      <th>start_date_day</th>\n",
       "      <th>end_date_year</th>\n",
       "      <th>end_date_month</th>\n",
       "      <th>end_date_day</th>\n",
       "      <th>end_time_hour</th>\n",
       "      <th>end_time_min</th>\n",
       "      <th>start_time_hour</th>\n",
       "      <th>start_time_min</th>\n",
       "      <th>volume</th>\n",
       "      <th>time_window</th>\n",
       "    </tr>\n",
       "  </thead>\n",
       "  <tbody>\n",
       "    <tr>\n",
       "      <td>0</td>\n",
       "      <td>2</td>\n",
       "      <td>0</td>\n",
       "      <td>0.0</td>\n",
       "      <td>1008.0</td>\n",
       "      <td>91</td>\n",
       "      <td>1013.0</td>\n",
       "      <td>21.0</td>\n",
       "      <td>210</td>\n",
       "      <td>1.4</td>\n",
       "      <td>0</td>\n",
       "      <td>...</td>\n",
       "      <td>24.0</td>\n",
       "      <td>2016.0</td>\n",
       "      <td>10.0</td>\n",
       "      <td>24.0</td>\n",
       "      <td>17.0</td>\n",
       "      <td>0.0</td>\n",
       "      <td>16.0</td>\n",
       "      <td>40.0</td>\n",
       "      <td>37.8</td>\n",
       "      <td>[2016-10-24 16:40:00,2016-10-24 17:00:00)</td>\n",
       "    </tr>\n",
       "    <tr>\n",
       "      <td>1</td>\n",
       "      <td>3</td>\n",
       "      <td>0</td>\n",
       "      <td>0.0</td>\n",
       "      <td>1008.0</td>\n",
       "      <td>91</td>\n",
       "      <td>1013.0</td>\n",
       "      <td>21.0</td>\n",
       "      <td>210</td>\n",
       "      <td>1.4</td>\n",
       "      <td>0</td>\n",
       "      <td>...</td>\n",
       "      <td>24.0</td>\n",
       "      <td>2016.0</td>\n",
       "      <td>10.0</td>\n",
       "      <td>24.0</td>\n",
       "      <td>17.0</td>\n",
       "      <td>0.0</td>\n",
       "      <td>16.0</td>\n",
       "      <td>40.0</td>\n",
       "      <td>61.5</td>\n",
       "      <td>[2016-10-24 16:40:00,2016-10-24 17:00:00)</td>\n",
       "    </tr>\n",
       "    <tr>\n",
       "      <td>2</td>\n",
       "      <td>3</td>\n",
       "      <td>1</td>\n",
       "      <td>0.0</td>\n",
       "      <td>1008.0</td>\n",
       "      <td>91</td>\n",
       "      <td>1013.0</td>\n",
       "      <td>21.0</td>\n",
       "      <td>210</td>\n",
       "      <td>1.4</td>\n",
       "      <td>0</td>\n",
       "      <td>...</td>\n",
       "      <td>24.0</td>\n",
       "      <td>2016.0</td>\n",
       "      <td>10.0</td>\n",
       "      <td>24.0</td>\n",
       "      <td>17.0</td>\n",
       "      <td>0.0</td>\n",
       "      <td>16.0</td>\n",
       "      <td>40.0</td>\n",
       "      <td>33.3</td>\n",
       "      <td>[2016-10-24 16:40:00,2016-10-24 17:00:00)</td>\n",
       "    </tr>\n",
       "    <tr>\n",
       "      <td>3</td>\n",
       "      <td>1</td>\n",
       "      <td>0</td>\n",
       "      <td>0.0</td>\n",
       "      <td>1008.0</td>\n",
       "      <td>91</td>\n",
       "      <td>1013.0</td>\n",
       "      <td>21.0</td>\n",
       "      <td>210</td>\n",
       "      <td>1.4</td>\n",
       "      <td>0</td>\n",
       "      <td>...</td>\n",
       "      <td>24.0</td>\n",
       "      <td>2016.0</td>\n",
       "      <td>10.0</td>\n",
       "      <td>24.0</td>\n",
       "      <td>17.0</td>\n",
       "      <td>0.0</td>\n",
       "      <td>16.0</td>\n",
       "      <td>40.0</td>\n",
       "      <td>24.7</td>\n",
       "      <td>[2016-10-24 16:40:00,2016-10-24 17:00:00)</td>\n",
       "    </tr>\n",
       "    <tr>\n",
       "      <td>4</td>\n",
       "      <td>1</td>\n",
       "      <td>1</td>\n",
       "      <td>0.0</td>\n",
       "      <td>1008.0</td>\n",
       "      <td>91</td>\n",
       "      <td>1013.0</td>\n",
       "      <td>21.0</td>\n",
       "      <td>210</td>\n",
       "      <td>1.4</td>\n",
       "      <td>0</td>\n",
       "      <td>...</td>\n",
       "      <td>24.0</td>\n",
       "      <td>2016.0</td>\n",
       "      <td>10.0</td>\n",
       "      <td>24.0</td>\n",
       "      <td>17.0</td>\n",
       "      <td>0.0</td>\n",
       "      <td>16.0</td>\n",
       "      <td>40.0</td>\n",
       "      <td>38.3</td>\n",
       "      <td>[2016-10-24 16:40:00,2016-10-24 17:00:00)</td>\n",
       "    </tr>\n",
       "  </tbody>\n",
       "</table>\n",
       "<p>5 rows × 22 columns</p>\n",
       "</div>"
      ],
      "text/plain": [
       "   tollgate_id  direction  precipitation  pressure  rel_humidity  \\\n",
       "0            2          0            0.0    1008.0            91   \n",
       "1            3          0            0.0    1008.0            91   \n",
       "2            3          1            0.0    1008.0            91   \n",
       "3            1          0            0.0    1008.0            91   \n",
       "4            1          1            0.0    1008.0            91   \n",
       "\n",
       "   sea_pressure  temperature  wind_direction  wind_speed  weekday  ...  \\\n",
       "0        1013.0         21.0             210         1.4        0  ...   \n",
       "1        1013.0         21.0             210         1.4        0  ...   \n",
       "2        1013.0         21.0             210         1.4        0  ...   \n",
       "3        1013.0         21.0             210         1.4        0  ...   \n",
       "4        1013.0         21.0             210         1.4        0  ...   \n",
       "\n",
       "   start_date_day  end_date_year  end_date_month  end_date_day  end_time_hour  \\\n",
       "0            24.0         2016.0            10.0          24.0           17.0   \n",
       "1            24.0         2016.0            10.0          24.0           17.0   \n",
       "2            24.0         2016.0            10.0          24.0           17.0   \n",
       "3            24.0         2016.0            10.0          24.0           17.0   \n",
       "4            24.0         2016.0            10.0          24.0           17.0   \n",
       "\n",
       "   end_time_min  start_time_hour  start_time_min  volume  \\\n",
       "0           0.0             16.0            40.0    37.8   \n",
       "1           0.0             16.0            40.0    61.5   \n",
       "2           0.0             16.0            40.0    33.3   \n",
       "3           0.0             16.0            40.0    24.7   \n",
       "4           0.0             16.0            40.0    38.3   \n",
       "\n",
       "                                 time_window  \n",
       "0  [2016-10-24 16:40:00,2016-10-24 17:00:00)  \n",
       "1  [2016-10-24 16:40:00,2016-10-24 17:00:00)  \n",
       "2  [2016-10-24 16:40:00,2016-10-24 17:00:00)  \n",
       "3  [2016-10-24 16:40:00,2016-10-24 17:00:00)  \n",
       "4  [2016-10-24 16:40:00,2016-10-24 17:00:00)  \n",
       "\n",
       "[5 rows x 22 columns]"
      ]
     },
     "execution_count": 52,
     "metadata": {},
     "output_type": "execute_result"
    }
   ],
   "source": [
    "t_data.head()"
   ]
  },
  {
   "cell_type": "code",
   "execution_count": 53,
   "metadata": {},
   "outputs": [
    {
     "data": {
      "text/html": [
       "<div>\n",
       "<style scoped>\n",
       "    .dataframe tbody tr th:only-of-type {\n",
       "        vertical-align: middle;\n",
       "    }\n",
       "\n",
       "    .dataframe tbody tr th {\n",
       "        vertical-align: top;\n",
       "    }\n",
       "\n",
       "    .dataframe thead th {\n",
       "        text-align: right;\n",
       "    }\n",
       "</style>\n",
       "<table border=\"1\" class=\"dataframe\">\n",
       "  <thead>\n",
       "    <tr style=\"text-align: right;\">\n",
       "      <th></th>\n",
       "      <th>tollgate_id</th>\n",
       "      <th>time_window</th>\n",
       "      <th>direction</th>\n",
       "      <th>volume</th>\n",
       "    </tr>\n",
       "  </thead>\n",
       "  <tbody>\n",
       "    <tr>\n",
       "      <td>0</td>\n",
       "      <td>2</td>\n",
       "      <td>[2016-10-24 16:40:00,2016-10-24 17:00:00)</td>\n",
       "      <td>0</td>\n",
       "      <td>37.8</td>\n",
       "    </tr>\n",
       "    <tr>\n",
       "      <td>1</td>\n",
       "      <td>3</td>\n",
       "      <td>[2016-10-24 16:40:00,2016-10-24 17:00:00)</td>\n",
       "      <td>0</td>\n",
       "      <td>61.5</td>\n",
       "    </tr>\n",
       "    <tr>\n",
       "      <td>2</td>\n",
       "      <td>3</td>\n",
       "      <td>[2016-10-24 16:40:00,2016-10-24 17:00:00)</td>\n",
       "      <td>1</td>\n",
       "      <td>33.3</td>\n",
       "    </tr>\n",
       "    <tr>\n",
       "      <td>3</td>\n",
       "      <td>1</td>\n",
       "      <td>[2016-10-24 16:40:00,2016-10-24 17:00:00)</td>\n",
       "      <td>0</td>\n",
       "      <td>24.7</td>\n",
       "    </tr>\n",
       "    <tr>\n",
       "      <td>4</td>\n",
       "      <td>1</td>\n",
       "      <td>[2016-10-24 16:40:00,2016-10-24 17:00:00)</td>\n",
       "      <td>1</td>\n",
       "      <td>38.3</td>\n",
       "    </tr>\n",
       "  </tbody>\n",
       "</table>\n",
       "</div>"
      ],
      "text/plain": [
       "   tollgate_id                                time_window  direction  volume\n",
       "0            2  [2016-10-24 16:40:00,2016-10-24 17:00:00)          0    37.8\n",
       "1            3  [2016-10-24 16:40:00,2016-10-24 17:00:00)          0    61.5\n",
       "2            3  [2016-10-24 16:40:00,2016-10-24 17:00:00)          1    33.3\n",
       "3            1  [2016-10-24 16:40:00,2016-10-24 17:00:00)          0    24.7\n",
       "4            1  [2016-10-24 16:40:00,2016-10-24 17:00:00)          1    38.3"
      ]
     },
     "execution_count": 53,
     "metadata": {},
     "output_type": "execute_result"
    }
   ],
   "source": [
    "f_data = t_data[[\"tollgate_id\",\"time_window\",\"direction\",\"volume\"]]\n",
    "f_data.head()"
   ]
  },
  {
   "cell_type": "code",
   "execution_count": 54,
   "metadata": {},
   "outputs": [],
   "source": [
    "f_data.to_csv(path_or_buf=\"data/task2_submission.csv\", index=False)"
   ]
  }
 ],
 "metadata": {
  "kernelspec": {
   "display_name": "Python 3",
   "language": "python",
   "name": "python3"
  },
  "language_info": {
   "codemirror_mode": {
    "name": "ipython",
    "version": 3
   },
   "file_extension": ".py",
   "mimetype": "text/x-python",
   "name": "python",
   "nbconvert_exporter": "python",
   "pygments_lexer": "ipython3",
   "version": "3.7.4"
  }
 },
 "nbformat": 4,
 "nbformat_minor": 2
}
